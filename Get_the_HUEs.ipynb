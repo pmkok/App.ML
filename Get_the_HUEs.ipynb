{
 "cells": [
  {
   "cell_type": "code",
   "execution_count": 1,
   "id": "77f21729-b55d-498d-a182-922f1185704c",
   "metadata": {
    "tags": []
   },
   "outputs": [],
   "source": [
    "import cv2\n",
    "import numpy as np\n",
    "import matplotlib.pyplot as plt\n",
    "from skimage.io import imshow, imread\n",
    "from skimage.feature import hog\n",
    "from skimage import exposure\n",
    "import skimage.transform as transform\n",
    "import skimage.io\n",
    "import skimage.exposure\n",
    "from sklearn.pipeline import make_pipeline\n",
    "from sklearn.preprocessing import StandardScaler\n",
    "from sklearn.model_selection import train_test_split\n",
    "import os\n",
    "import numpy as np\n",
    "from sklearn.metrics import accuracy_score\n",
    "from sklearn.ensemble import RandomForestClassifier\n",
    "from sklearn.svm import SVC"
   ]
  },
  {
   "cell_type": "code",
   "execution_count": 2,
   "id": "7b295957-bbf1-4b55-83d1-6ad6d08b7365",
   "metadata": {
    "tags": []
   },
   "outputs": [
    {
     "ename": "KeyboardInterrupt",
     "evalue": "",
     "output_type": "error",
     "traceback": [
      "\u001b[0;31m---------------------------------------------------------------------------\u001b[0m",
      "\u001b[0;31mKeyboardInterrupt\u001b[0m                         Traceback (most recent call last)",
      "Cell \u001b[0;32mIn[2], line 40\u001b[0m\n\u001b[1;32m     37\u001b[0m folder_path_train \u001b[38;5;241m=\u001b[39m \u001b[38;5;124m\"\u001b[39m\u001b[38;5;124m/home/jovyan/DATA/dataset_folder_train_images/GTSRB/Final_Training/Images\u001b[39m\u001b[38;5;124m\"\u001b[39m\n\u001b[1;32m     38\u001b[0m image_path \u001b[38;5;241m=\u001b[39m \u001b[38;5;124m\"\u001b[39m\u001b[38;5;124m/home/jovyan/ML_PROJECT/DATA/dataset_folder/GTSRB/Final_Training/Images/00000/00000_00007.ppm\u001b[39m\u001b[38;5;124m\"\u001b[39m\n\u001b[0;32m---> 40\u001b[0m X,y \u001b[38;5;241m=\u001b[39m \u001b[43mread_data\u001b[49m\u001b[43m(\u001b[49m\u001b[43mfolder_path_train\u001b[49m\u001b[43m)\u001b[49m\n",
      "Cell \u001b[0;32mIn[2], line 19\u001b[0m, in \u001b[0;36mread_data\u001b[0;34m(folder_path)\u001b[0m\n\u001b[1;32m     14\u001b[0m \u001b[38;5;28;01mif\u001b[39;00m file_name\u001b[38;5;241m.\u001b[39mendswith(\u001b[38;5;124m\"\u001b[39m\u001b[38;5;124m.ppm\u001b[39m\u001b[38;5;124m\"\u001b[39m):\n\u001b[1;32m     15\u001b[0m     file_path \u001b[38;5;241m=\u001b[39m os\u001b[38;5;241m.\u001b[39mpath\u001b[38;5;241m.\u001b[39mjoin(class_folder, file_name)\n\u001b[0;32m---> 19\u001b[0m     image \u001b[38;5;241m=\u001b[39m \u001b[43mcv2\u001b[49m\u001b[38;5;241;43m.\u001b[39;49m\u001b[43mimread\u001b[49m\u001b[43m(\u001b[49m\u001b[43mfile_path\u001b[49m\u001b[43m)\u001b[49m\n\u001b[1;32m     20\u001b[0m     scaled_image \u001b[38;5;241m=\u001b[39m cv2\u001b[38;5;241m.\u001b[39mresize(image, (desired_width, desired_height)) \n\u001b[1;32m     21\u001b[0m     image_hsv \u001b[38;5;241m=\u001b[39m cv2\u001b[38;5;241m.\u001b[39mcvtColor(scaled_image, cv2\u001b[38;5;241m.\u001b[39mCOLOR_BGR2HSV) \n",
      "\u001b[0;31mKeyboardInterrupt\u001b[0m: "
     ]
    }
   ],
   "source": [
    "def read_data(folder_path):\n",
    "    X = []\n",
    "    y = []\n",
    "    \n",
    "    desired_width = 29\n",
    "    desired_height = 30\n",
    "\n",
    "    for class_label in range(43):\n",
    "        class_folder = os.path.join(folder_path, str(class_label))\n",
    "        \n",
    "        \n",
    "        \n",
    "        for file_name in os.listdir(class_folder):\n",
    "            if file_name.endswith(\".ppm\"):\n",
    "                file_path = os.path.join(class_folder, file_name)\n",
    "                \n",
    "                \n",
    "            \n",
    "                image = cv2.imread(file_path)\n",
    "                scaled_image = cv2.resize(image, (desired_width, desired_height)) \n",
    "                image_hsv = cv2.cvtColor(scaled_image, cv2.COLOR_BGR2HSV) \n",
    "                \n",
    "                border_size = 5\n",
    "                image_hsv_cropped = image_hsv[border_size:-border_size, border_size:-border_size] \n",
    "                hue_values = image_hsv_cropped[:, :, 0].flatten()\n",
    "                \n",
    "                histogram, _ = np.histogram(hue_values, bins=256, range=[0, 256])\n",
    "                normalized_histogram = histogram.astype(np.float64) / np.sum(histogram)\n",
    "                dimensionality = len(normalized_histogram)\n",
    "               \n",
    "                \n",
    "                X.append(hue_values)\n",
    "                y.append(class_label)\n",
    "\n",
    "    return np.array(X), np.array(y)\n",
    "\n",
    "folder_path_train = \"/home/jovyan/DATA/dataset_folder_train_images/GTSRB/Final_Training/Images\"\n",
    "image_path = \"/home/jovyan/ML_PROJECT/DATA/dataset_folder/GTSRB/Final_Training/Images/00000/00000_00007.ppm\"\n",
    "\n",
    "X,y = read_data(folder_path_train)"
   ]
  },
  {
   "cell_type": "code",
   "execution_count": 15,
   "id": "b9bb3dee-4e8b-4dd4-a59a-085c1c791167",
   "metadata": {
    "tags": []
   },
   "outputs": [
    {
     "name": "stdout",
     "output_type": "stream",
     "text": [
      "Accuracy for Random Forest: 0.7471308339709258\n"
     ]
    }
   ],
   "source": [
    "#random Forest\n",
    "X_train_forest, X_test_forest, y_train_forest, y_test_forest = train_test_split(X, y, test_size=0.2, random_state=42)\n",
    "scaler = StandardScaler()\n",
    "X_train_scaled_forest = scaler.fit_transform(X_train_forest)\n",
    "X_test_scaled_forest = scaler.transform(X_test_forest)\n",
    "\n",
    "# Create and train the Random Forest model\n",
    "random_forest = RandomForestClassifier()\n",
    "random_forest.fit(X_train_scaled_forest, y_train_forest)\n",
    "\n",
    "# Make predictions on the test set\n",
    "y_pred_forest = random_forest.predict(X_test_scaled_forest)\n",
    "\n",
    "# Evaluate the model\n",
    "accuracy_forest = accuracy_score(y_test_forest, y_pred_forest)\n",
    "print(\"Accuracy for Random Forest:\", accuracy_forest)\n",
    "print()\n",
    "\n",
    "# Calculating precision, recall, and F1-score for each class\n",
    "precision_forest = precision_score(y_test_forest, y_pred_forest, average=None)\n",
    "recall_forest = recall_score(y_test_forest, y_pred_forest, average=None)\n",
    "f1_forest = f1_score(y_test_forest, y_pred_forest, average=None)\n",
    "\n",
    "# Printing the evaluation metrics for each class\n",
    "for class_label, prec, rec, f1_score in zip(np.unique(y), precision_forest, recall_forest, f1_forest):\n",
    "    print(f\"Class: {class_label}\")\n",
    "    print(f\"Precision: {prec}\")\n",
    "    print(f\"Recall: {rec}\")\n",
    "    print(f\"F1-Score: {f1_score}\")\n",
    "    print()"
   ]
  },
  {
   "cell_type": "code",
   "execution_count": 16,
   "id": "16435da1-4b7b-4182-90f1-57a3b9dbb704",
   "metadata": {
    "tags": []
   },
   "outputs": [
    {
     "name": "stdout",
     "output_type": "stream",
     "text": [
      "Accuracy for a SVM: 0.5795715378729915\n"
     ]
    }
   ],
   "source": [
    "#SVM\n",
    "X_train_svm, X_test_svm, y_train_svm, y_test_svm = train_test_split(X, y, test_size=0.2, random_state=42)\n",
    "\n",
    "clf= make_pipeline(StandardScaler(),SVC(kernel=\"rbf\", gamma= \"auto\"))\n",
    "clf.fit(X_train_svm,y_train_svm)\n",
    "y_pred_svm = clf.predict(X_test_svm)\n",
    "accuracy_svm = accuracy_score(y_test_svm, y_pred_svm)\n",
    "print(\"Accuracy for a SVM:\", accuracy_svm)\n",
    "print()\n",
    "\n",
    "# Calculating precision, recall, and F1-score for each class\n",
    "precision_svm = precision_score(y_test_svm, y_pred_svm, average=None)\n",
    "recall_svm = recall_score(y_test_svm, y_pred_svm, average=None)\n",
    "f1_svm = f1_score(y_test_svm, y_pred_svm, average=None)\n",
    "\n",
    "# Printing the evaluation metrics for each class\n",
    "for class_label, prec, rec, f1_score in zip(np.unique(y), precision_svm, recall_svm, f1_svm):\n",
    "    print(f\"Class: {class_label}\")\n",
    "    print(f\"Precision: {prec}\")\n",
    "    print(f\"Recall: {rec}\")\n",
    "    print(f\"F1-Score: {f1_score}\")\n",
    "    print()"
   ]
  },
  {
   "cell_type": "code",
   "execution_count": null,
   "id": "e39c7cf8-0827-48af-88dc-853c7890639b",
   "metadata": {},
   "outputs": [],
   "source": []
  }
 ],
 "metadata": {
  "kernelspec": {
   "display_name": "Python 3 (ipykernel)",
   "language": "python",
   "name": "python3"
  },
  "language_info": {
   "codemirror_mode": {
    "name": "ipython",
    "version": 3
   },
   "file_extension": ".py",
   "mimetype": "text/x-python",
   "name": "python",
   "nbconvert_exporter": "python",
   "pygments_lexer": "ipython3",
   "version": "3.10.10"
  }
 },
 "nbformat": 4,
 "nbformat_minor": 5
}
