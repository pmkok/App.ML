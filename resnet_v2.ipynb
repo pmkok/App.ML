{
 "cells": [
  {
   "cell_type": "code",
   "execution_count": 5,
   "id": "584249cd-31f6-46fb-a226-222121d79ed1",
   "metadata": {
    "tags": []
   },
   "outputs": [],
   "source": [
    "import cv2\n",
    "import os\n",
    "import numpy as np\n",
    "from tensorflow.keras.applications.resnet50 import ResNet50, preprocess_input\n",
    "from tensorflow.keras.preprocessing.image import img_to_array, load_img\n",
    "from PIL import Image\n",
    "import IPython.display as display"
   ]
  },
  {
   "cell_type": "code",
   "execution_count": 6,
   "id": "902fff24-ee23-4187-965d-815960bea9eb",
   "metadata": {
    "tags": []
   },
   "outputs": [],
   "source": [
    "# Specify the path to the dataset folder\n",
    "dataset_path = '/home/jovyan/ML_PROJECT/DATA/dataset_folder/GTSRB/Final_Training/Images'\n"
   ]
  },
  {
   "cell_type": "code",
   "execution_count": 7,
   "id": "205f3e73-3483-44c8-ad01-53f3d461131e",
   "metadata": {
    "tags": []
   },
   "outputs": [],
   "source": [
    "# Change the working directory\n",
    "os.chdir(dataset_path)"
   ]
  },
  {
   "cell_type": "code",
   "execution_count": 8,
   "id": "0725e8e8-2410-485b-8a1e-8388965afdf8",
   "metadata": {
    "tags": []
   },
   "outputs": [
    {
     "data": {
      "text/plain": [
       "\"\\nfolder_path = '/home/jovyan/ML_PROJECT/DATA/dataset_folder/GTSRB/Final_Training/Images/00000/'\\n\\n# Iterate over all the image files in the folder\\nfor filename in os.listdir(folder_path):\\n    # Construct the full path to the image\\n    image_path = os.path.join(folder_path, filename)\\n    \\n    # Open and display the image\\n    image = Image.open(image_path)\\n    display.display(image)\\n    \""
      ]
     },
     "execution_count": 8,
     "metadata": {},
     "output_type": "execute_result"
    }
   ],
   "source": [
    "# Specify the path to the folder\n",
    "'''\n",
    "folder_path = '/home/jovyan/ML_PROJECT/DATA/dataset_folder/GTSRB/Final_Training/Images/00000/'\n",
    "\n",
    "# Iterate over all the image files in the folder\n",
    "for filename in os.listdir(folder_path):\n",
    "    # Construct the full path to the image\n",
    "    image_path = os.path.join(folder_path, filename)\n",
    "    \n",
    "    # Open and display the image\n",
    "    image = Image.open(image_path)\n",
    "    display.display(image)\n",
    "    '''"
   ]
  },
  {
   "cell_type": "code",
   "execution_count": 9,
   "id": "821acc83-b112-487f-bf58-3f9ec4ce03cb",
   "metadata": {
    "tags": []
   },
   "outputs": [
    {
     "data": {
      "text/plain": [
       "\"\\n# Specify the path to the image\\nimage_path = '/home/jovyan/ML_PROJECT/DATA/dataset_folder/GTSRB/Final_Training/Images/00000/00000_00000.ppm'\\n\\n# Open and display the image\\nimage = Image.open(image_path)\\ndisplay.display(image)\\n\""
      ]
     },
     "execution_count": 9,
     "metadata": {},
     "output_type": "execute_result"
    }
   ],
   "source": [
    "\n",
    "\n",
    "\n",
    "'''\n",
    "# Specify the path to the image\n",
    "image_path = '/home/jovyan/ML_PROJECT/DATA/dataset_folder/GTSRB/Final_Training/Images/00000/00000_00000.ppm'\n",
    "\n",
    "# Open and display the image\n",
    "image = Image.open(image_path)\n",
    "display.display(image)\n",
    "'''\n"
   ]
  },
  {
   "cell_type": "code",
   "execution_count": 10,
   "id": "cc5edb84-4c66-4f3b-8bf9-aedcb832bc9e",
   "metadata": {
    "tags": []
   },
   "outputs": [],
   "source": [
    "# Initialize the ResNet50 model\n",
    "resnet_model = ResNet50(weights='imagenet', include_top=False, input_shape=(224, 224, 3))\n"
   ]
  },
  {
   "cell_type": "code",
   "execution_count": 11,
   "id": "2fbeb760-570f-4575-a585-1a497552f725",
   "metadata": {
    "tags": []
   },
   "outputs": [],
   "source": [
    "\n",
    "def extract_hog_features(image):\n",
    "    # Convert the image to grayscale\n",
    "    image_gray = cv2.cvtColor(image, cv2.COLOR_BGR2GRAY)\n",
    "    \n",
    "    hog = cv2.HOGDescriptor()\n",
    "    hog_features = hog.compute(image_gray)\n",
    "    return hog_features.flatten()"
   ]
  },
  {
   "cell_type": "code",
   "execution_count": 12,
   "id": "2744e75f-a90f-49b6-87ae-68ac70680502",
   "metadata": {
    "tags": []
   },
   "outputs": [],
   "source": [
    "def process_images(dataset_path):\n",
    "    image_paths = [os.path.join(dataset_path, folder, image) for folder in os.listdir(dataset_path)\n",
    "                   for image in os.listdir(os.path.join(dataset_path, folder))]\n",
    "    \n",
    "    hog_features = []\n",
    "    \n",
    "    for image_path in image_paths:\n",
    "        \n",
    "       \n",
    "        # Load the image in color\n",
    "\n",
    "            \n",
    "        image = cv2.imread(image_path, cv2.IMREAD_COLOR)\n",
    "        image = cv2.cvtColor(image, cv2.COLOR_BGR2RGB)\n",
    "        \n",
    "        display.display(image)\n",
    "        \n",
    "        # Resize the image to (224, 224)\n",
    "        image_resized = cv2.resize(image, (224, 224))\n",
    "        \n",
    "        image_resized = image_resized.astype(np.float32)\n",
    "        image_resized = preprocess_input(image_resized)\n",
    "        \n",
    "        features = resnet_model.predict(np.expand_dims(image_resized, axis=0))\n",
    "        features = features.reshape(-1)\n",
    "        hog_features.append(extract_hog_features(image))\n",
    "    \n",
    "    return hog_features\n"
   ]
  },
  {
   "cell_type": "code",
   "execution_count": 13,
   "id": "a1033d82-ab6a-4b6b-900a-698f3e3bbb12",
   "metadata": {
    "tags": []
   },
   "outputs": [
    {
     "data": {
      "text/plain": [
       "array([[[38, 35, 32],\n",
       "        [37, 35, 31],\n",
       "        [37, 35, 32],\n",
       "        ...,\n",
       "        [36, 33, 28],\n",
       "        [44, 41, 36],\n",
       "        [41, 38, 33]],\n",
       "\n",
       "       [[37, 35, 31],\n",
       "        [37, 35, 30],\n",
       "        [39, 37, 33],\n",
       "        ...,\n",
       "        [37, 35, 30],\n",
       "        [43, 41, 35],\n",
       "        [41, 38, 32]],\n",
       "\n",
       "       [[36, 35, 31],\n",
       "        [36, 35, 31],\n",
       "        [37, 35, 32],\n",
       "        ...,\n",
       "        [36, 35, 30],\n",
       "        [43, 41, 35],\n",
       "        [42, 38, 33]],\n",
       "\n",
       "       ...,\n",
       "\n",
       "       [[40, 35, 31],\n",
       "        [41, 36, 32],\n",
       "        [40, 35, 32],\n",
       "        ...,\n",
       "        [35, 34, 32],\n",
       "        [35, 36, 35],\n",
       "        [39, 43, 40]],\n",
       "\n",
       "       [[40, 36, 33],\n",
       "        [40, 37, 33],\n",
       "        [42, 39, 36],\n",
       "        ...,\n",
       "        [36, 34, 32],\n",
       "        [34, 35, 34],\n",
       "        [39, 43, 40]],\n",
       "\n",
       "       [[38, 35, 31],\n",
       "        [37, 35, 30],\n",
       "        [40, 38, 35],\n",
       "        ...,\n",
       "        [35, 32, 30],\n",
       "        [35, 35, 34],\n",
       "        [39, 43, 40]]], dtype=uint8)"
      ]
     },
     "metadata": {},
     "output_type": "display_data"
    },
    {
     "name": "stdout",
     "output_type": "stream",
     "text": [
      "1/1 [==============================] - 1s 799ms/step\n"
     ]
    },
    {
     "ename": "error",
     "evalue": "OpenCV(4.7.0) /io/opencv/modules/core/src/matrix.cpp:766: error: (-215:Assertion failed) 0 <= _rowRange.start && _rowRange.start <= _rowRange.end && _rowRange.end <= m.rows in function 'Mat'\n",
     "output_type": "error",
     "traceback": [
      "\u001b[0;31m---------------------------------------------------------------------------\u001b[0m",
      "\u001b[0;31merror\u001b[0m                                     Traceback (most recent call last)",
      "Cell \u001b[0;32mIn[13], line 2\u001b[0m\n\u001b[1;32m      1\u001b[0m \u001b[38;5;66;03m# Call the function with the dataset path\u001b[39;00m\n\u001b[0;32m----> 2\u001b[0m hog_features \u001b[38;5;241m=\u001b[39m \u001b[43mprocess_images\u001b[49m\u001b[43m(\u001b[49m\u001b[43mdataset_path\u001b[49m\u001b[43m)\u001b[49m\n",
      "Cell \u001b[0;32mIn[12], line 26\u001b[0m, in \u001b[0;36mprocess_images\u001b[0;34m(dataset_path)\u001b[0m\n\u001b[1;32m     24\u001b[0m     features \u001b[38;5;241m=\u001b[39m resnet_model\u001b[38;5;241m.\u001b[39mpredict(np\u001b[38;5;241m.\u001b[39mexpand_dims(image_resized, axis\u001b[38;5;241m=\u001b[39m\u001b[38;5;241m0\u001b[39m))\n\u001b[1;32m     25\u001b[0m     features \u001b[38;5;241m=\u001b[39m features\u001b[38;5;241m.\u001b[39mreshape(\u001b[38;5;241m-\u001b[39m\u001b[38;5;241m1\u001b[39m)\n\u001b[0;32m---> 26\u001b[0m     hog_features\u001b[38;5;241m.\u001b[39mappend(\u001b[43mextract_hog_features\u001b[49m\u001b[43m(\u001b[49m\u001b[43mimage\u001b[49m\u001b[43m)\u001b[49m)\n\u001b[1;32m     28\u001b[0m \u001b[38;5;28;01mreturn\u001b[39;00m hog_features\n",
      "Cell \u001b[0;32mIn[11], line 6\u001b[0m, in \u001b[0;36mextract_hog_features\u001b[0;34m(image)\u001b[0m\n\u001b[1;32m      3\u001b[0m image_gray \u001b[38;5;241m=\u001b[39m cv2\u001b[38;5;241m.\u001b[39mcvtColor(image, cv2\u001b[38;5;241m.\u001b[39mCOLOR_BGR2GRAY)\n\u001b[1;32m      5\u001b[0m hog \u001b[38;5;241m=\u001b[39m cv2\u001b[38;5;241m.\u001b[39mHOGDescriptor()\n\u001b[0;32m----> 6\u001b[0m hog_features \u001b[38;5;241m=\u001b[39m \u001b[43mhog\u001b[49m\u001b[38;5;241;43m.\u001b[39;49m\u001b[43mcompute\u001b[49m\u001b[43m(\u001b[49m\u001b[43mimage_gray\u001b[49m\u001b[43m)\u001b[49m\n\u001b[1;32m      7\u001b[0m \u001b[38;5;28;01mreturn\u001b[39;00m hog_features\u001b[38;5;241m.\u001b[39mflatten()\n",
      "\u001b[0;31merror\u001b[0m: OpenCV(4.7.0) /io/opencv/modules/core/src/matrix.cpp:766: error: (-215:Assertion failed) 0 <= _rowRange.start && _rowRange.start <= _rowRange.end && _rowRange.end <= m.rows in function 'Mat'\n"
     ]
    }
   ],
   "source": [
    "# Call the function with the dataset path\n",
    "hog_features = process_images(dataset_path)\n"
   ]
  },
  {
   "cell_type": "code",
   "execution_count": null,
   "id": "4dda33f8-7ca5-4c2d-90b7-893868cdfc9c",
   "metadata": {
    "tags": []
   },
   "outputs": [],
   "source": [
    "\n",
    "# Convert hog_features to a NumPy array\n",
    "hog_features_array = np.array(hog_features)\n",
    "\n"
   ]
  },
  {
   "cell_type": "code",
   "execution_count": null,
   "id": "6433e6ef-7dad-485f-9366-6290ed0b4f3b",
   "metadata": {},
   "outputs": [],
   "source": [
    "# Save the NumPy array to a file\n",
    "np.save('hog_features.npy', hog_features_array)\n"
   ]
  },
  {
   "cell_type": "code",
   "execution_count": null,
   "id": "00cccd0c-b379-43c0-9ced-e0322ffb10f3",
   "metadata": {},
   "outputs": [],
   "source": []
  }
 ],
 "metadata": {
  "kernelspec": {
   "display_name": "Python 3 (ipykernel)",
   "language": "python",
   "name": "python3"
  },
  "language_info": {
   "codemirror_mode": {
    "name": "ipython",
    "version": 3
   },
   "file_extension": ".py",
   "mimetype": "text/x-python",
   "name": "python",
   "nbconvert_exporter": "python",
   "pygments_lexer": "ipython3",
   "version": "3.10.10"
  }
 },
 "nbformat": 4,
 "nbformat_minor": 5
}
