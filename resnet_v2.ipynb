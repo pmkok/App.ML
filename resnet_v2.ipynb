{
 "cells": [
  {
   "cell_type": "code",
   "execution_count": 85,
   "id": "584249cd-31f6-46fb-a226-222121d79ed1",
   "metadata": {
    "tags": []
   },
   "outputs": [],
   "source": [
    "import cv2\n",
    "import os\n",
    "import numpy as np\n",
    "from tensorflow.keras.applications.resnet50 import ResNet50, preprocess_input\n",
    "from tensorflow.keras.preprocessing.image import img_to_array, load_img"
   ]
  },
  {
   "cell_type": "code",
   "execution_count": 86,
   "id": "902fff24-ee23-4187-965d-815960bea9eb",
   "metadata": {
    "tags": []
   },
   "outputs": [],
   "source": [
    "# Specify the path to the dataset folder\n",
    "dataset_path = '/home/jovyan/ML_PROJECT/DATA/dataset_folder/GTSRB/Final_Training/Images'\n"
   ]
  },
  {
   "cell_type": "code",
   "execution_count": 87,
   "id": "205f3e73-3483-44c8-ad01-53f3d461131e",
   "metadata": {
    "tags": []
   },
   "outputs": [],
   "source": [
    "# Change the working directory\n",
    "os.chdir(dataset_path)"
   ]
  },
  {
   "cell_type": "code",
   "execution_count": 88,
   "id": "cc5edb84-4c66-4f3b-8bf9-aedcb832bc9e",
   "metadata": {
    "tags": []
   },
   "outputs": [],
   "source": [
    "# Initialize the ResNet50 model\n",
    "resnet_model = ResNet50(weights='imagenet', include_top=False, input_shape=(224, 224, 3))\n"
   ]
  },
  {
   "cell_type": "code",
   "execution_count": 89,
   "id": "2fbeb760-570f-4575-a585-1a497552f725",
   "metadata": {
    "tags": []
   },
   "outputs": [],
   "source": [
    "def extract_hog_features(image):\n",
    "    hog = cv2.HOGDescriptor()\n",
    "    hog_features = hog.compute(image)\n",
    "    return hog_features.flatten()"
   ]
  },
  {
   "cell_type": "code",
   "execution_count": 90,
   "id": "2744e75f-a90f-49b6-87ae-68ac70680502",
   "metadata": {
    "tags": []
   },
   "outputs": [],
   "source": [
    "def process_images(dataset_path):\n",
    "    image_paths = [os.path.join(dataset_path, folder, image) for folder in os.listdir(dataset_path)\n",
    "                   for image in os.listdir(os.path.join(dataset_path, folder))]\n",
    "    \n",
    "    hog_features = []\n",
    "    \n",
    "    for image_path in image_paths:\n",
    "        image = load_img(image_path, target_size=(224, 224))\n",
    "        image = img_to_array(image)\n",
    "        image = preprocess_input(image)\n",
    "        features = resnet_model.predict(np.expand_dims(image, axis=0))\n",
    "        features = features.reshape(-1)\n",
    "        hog_features.append(extract_hog_features(features))\n",
    "    \n",
    "    return hog_features"
   ]
  },
  {
   "cell_type": "code",
   "execution_count": 91,
   "id": "a1033d82-ab6a-4b6b-900a-698f3e3bbb12",
   "metadata": {
    "tags": []
   },
   "outputs": [
    {
     "name": "stdout",
     "output_type": "stream",
     "text": [
      "1/1 [==============================] - 1s 766ms/step\n"
     ]
    },
    {
     "ename": "error",
     "evalue": "OpenCV(4.7.0) /io/opencv/modules/objdetect/src/hog.cpp:244: error: (-215:Assertion failed) img.type() == CV_8U || img.type() == CV_8UC3 in function 'computeGradient'\n",
     "output_type": "error",
     "traceback": [
      "\u001b[0;31m---------------------------------------------------------------------------\u001b[0m",
      "\u001b[0;31merror\u001b[0m                                     Traceback (most recent call last)",
      "Cell \u001b[0;32mIn[91], line 2\u001b[0m\n\u001b[1;32m      1\u001b[0m \u001b[38;5;66;03m# Call the function with the dataset path\u001b[39;00m\n\u001b[0;32m----> 2\u001b[0m hog_features \u001b[38;5;241m=\u001b[39m \u001b[43mprocess_images\u001b[49m\u001b[43m(\u001b[49m\u001b[43mdataset_path\u001b[49m\u001b[43m)\u001b[49m\n",
      "Cell \u001b[0;32mIn[90], line 13\u001b[0m, in \u001b[0;36mprocess_images\u001b[0;34m(dataset_path)\u001b[0m\n\u001b[1;32m     11\u001b[0m     features \u001b[38;5;241m=\u001b[39m resnet_model\u001b[38;5;241m.\u001b[39mpredict(np\u001b[38;5;241m.\u001b[39mexpand_dims(image, axis\u001b[38;5;241m=\u001b[39m\u001b[38;5;241m0\u001b[39m))\n\u001b[1;32m     12\u001b[0m     features \u001b[38;5;241m=\u001b[39m features\u001b[38;5;241m.\u001b[39mreshape(\u001b[38;5;241m-\u001b[39m\u001b[38;5;241m1\u001b[39m)\n\u001b[0;32m---> 13\u001b[0m     hog_features\u001b[38;5;241m.\u001b[39mappend(\u001b[43mextract_hog_features\u001b[49m\u001b[43m(\u001b[49m\u001b[43mfeatures\u001b[49m\u001b[43m)\u001b[49m)\n\u001b[1;32m     15\u001b[0m \u001b[38;5;28;01mreturn\u001b[39;00m hog_features\n",
      "Cell \u001b[0;32mIn[89], line 3\u001b[0m, in \u001b[0;36mextract_hog_features\u001b[0;34m(image)\u001b[0m\n\u001b[1;32m      1\u001b[0m \u001b[38;5;28;01mdef\u001b[39;00m \u001b[38;5;21mextract_hog_features\u001b[39m(image):\n\u001b[1;32m      2\u001b[0m     hog \u001b[38;5;241m=\u001b[39m cv2\u001b[38;5;241m.\u001b[39mHOGDescriptor()\n\u001b[0;32m----> 3\u001b[0m     hog_features \u001b[38;5;241m=\u001b[39m \u001b[43mhog\u001b[49m\u001b[38;5;241;43m.\u001b[39;49m\u001b[43mcompute\u001b[49m\u001b[43m(\u001b[49m\u001b[43mimage\u001b[49m\u001b[43m)\u001b[49m\n\u001b[1;32m      4\u001b[0m     \u001b[38;5;28;01mreturn\u001b[39;00m hog_features\u001b[38;5;241m.\u001b[39mflatten()\n",
      "\u001b[0;31merror\u001b[0m: OpenCV(4.7.0) /io/opencv/modules/objdetect/src/hog.cpp:244: error: (-215:Assertion failed) img.type() == CV_8U || img.type() == CV_8UC3 in function 'computeGradient'\n"
     ]
    }
   ],
   "source": [
    "# Call the function with the dataset path\n",
    "hog_features = process_images(dataset_path)\n"
   ]
  },
  {
   "cell_type": "code",
   "execution_count": 92,
   "id": "4dda33f8-7ca5-4c2d-90b7-893868cdfc9c",
   "metadata": {
    "tags": []
   },
   "outputs": [
    {
     "ename": "NameError",
     "evalue": "name 'hog_features' is not defined",
     "output_type": "error",
     "traceback": [
      "\u001b[0;31m---------------------------------------------------------------------------\u001b[0m",
      "\u001b[0;31mNameError\u001b[0m                                 Traceback (most recent call last)",
      "Cell \u001b[0;32mIn[92], line 2\u001b[0m\n\u001b[1;32m      1\u001b[0m \u001b[38;5;66;03m# Convert hog_features to a NumPy array\u001b[39;00m\n\u001b[0;32m----> 2\u001b[0m hog_features_array \u001b[38;5;241m=\u001b[39m np\u001b[38;5;241m.\u001b[39marray(\u001b[43mhog_features\u001b[49m)\n",
      "\u001b[0;31mNameError\u001b[0m: name 'hog_features' is not defined"
     ]
    }
   ],
   "source": [
    "\n",
    "# Convert hog_features to a NumPy array\n",
    "hog_features_array = np.array(hog_features)\n",
    "\n"
   ]
  },
  {
   "cell_type": "code",
   "execution_count": null,
   "id": "6433e6ef-7dad-485f-9366-6290ed0b4f3b",
   "metadata": {},
   "outputs": [],
   "source": [
    "# Save the NumPy array to a file\n",
    "np.save('hog_features.npy', hog_features_array)\n"
   ]
  },
  {
   "cell_type": "code",
   "execution_count": null,
   "id": "00cccd0c-b379-43c0-9ced-e0322ffb10f3",
   "metadata": {},
   "outputs": [],
   "source": []
  }
 ],
 "metadata": {
  "kernelspec": {
   "display_name": "Python 3 (ipykernel)",
   "language": "python",
   "name": "python3"
  },
  "language_info": {
   "codemirror_mode": {
    "name": "ipython",
    "version": 3
   },
   "file_extension": ".py",
   "mimetype": "text/x-python",
   "name": "python",
   "nbconvert_exporter": "python",
   "pygments_lexer": "ipython3",
   "version": "3.10.10"
  }
 },
 "nbformat": 4,
 "nbformat_minor": 5
}
