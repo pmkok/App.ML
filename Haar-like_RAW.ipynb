{
 "cells": [
  {
   "cell_type": "code",
   "execution_count": 13,
   "id": "6750db3a-b9da-4705-8717-8d0589b2842f",
   "metadata": {
    "tags": []
   },
   "outputs": [],
   "source": [
    "from time import time\n",
    "\n",
    "import numpy as np\n",
    "import matplotlib.pyplot as plt\n",
    "\n",
    "from dask import delayed\n",
    "\n",
    "from sklearn.ensemble import RandomForestClassifier\n",
    "from sklearn.model_selection import train_test_split\n",
    "from sklearn.metrics import roc_auc_score\n",
    "\n",
    "from skimage.data import lfw_subset\n",
    "from skimage.transform import integral_image\n",
    "from skimage.feature import haar_like_feature\n",
    "from skimage.feature import haar_like_feature_coord\n",
    "from skimage.feature import draw_haar_like_feature\n"
   ]
  },
  {
   "cell_type": "code",
   "execution_count": 26,
   "id": "2e4b0190-1e02-4341-b84b-c39538358c5b",
   "metadata": {
    "tags": []
   },
   "outputs": [],
   "source": [
    "@delayed\n",
    "def extract_feature_image(img, feature_type, feature_coord=None):\n",
    "    \"\"\"Extract the haar feature for the current image\"\"\"\n",
    "    ii = integral_image(img)\n",
    "    return haar_like_feature(ii, 0, 0, ii.shape[0], ii.shape[1],\n",
    "                             feature_type=feature_type,\n",
    "                             feature_coord=feature_coord)\n",
    "\n",
    "feature_types = ['type-2-x', 'type-2-y']\n",
    "\n",
    "images = cv2.imread(\"00000.ppm\")\n",
    "\n",
    "X = np.array(extract_feature_image(images, feature_types))\n",
    "\n",
    "feature_coord, feature_type = \\\n",
    "    haar_like_feature_coord(width=images.shape[2], height=images.shape[1],\n",
    "                            feature_type=feature_types)\n"
   ]
  },
  {
   "cell_type": "markdown",
   "id": "cb9e8de1-5faf-45f7-ba66-c393fa4f20cd",
   "metadata": {
    "tags": []
   },
   "source": [
    "# Load the image\n",
    "image = imread(image_path)"
   ]
  },
  {
   "cell_type": "markdown",
   "id": "3d43d262-b60e-497c-ad30-b77311ddee12",
   "metadata": {
    "tags": []
   },
   "source": [
    "# Convert the image to grayscale\n",
    "image_gray = np.dot(image[..., :3], [0.2989, 0.5870, 0.1140])\n"
   ]
  },
  {
   "cell_type": "markdown",
   "id": "a1c0e270-4295-4367-b093-191bd6007b9c",
   "metadata": {
    "tags": []
   },
   "source": [
    "# Resize the image to 40x40 pixels using bilinear interpolation\n",
    "image_resized = resize(image_gray, (40, 40), mode='reflect')\n",
    "\n"
   ]
  },
  {
   "cell_type": "markdown",
   "id": "6b46829b-59f1-4ec4-a799-c8142bb3d3ab",
   "metadata": {
    "tags": []
   },
   "source": [
    "# Define the Haar-like features\n",
    "feature_types = ['type-2-x', 'type-2-y', 'type-3-x', 'type-3-y', 'type-4',\n",
    "                 'type-4', 'type-3-x', 'type-3-y', 'type-4', 'type-4',\n",
    "                 'type-2-x', 'type-2-x', 'type-3-x', 'type-3-x']\n",
    "feature_sizes = [4, 4, 6, 6, 8, 8, 6, 6, 9, 9, 6, 6, 10, 10]"
   ]
  },
  {
   "cell_type": "markdown",
   "id": "eedd82a4-38be-4d14-b530-c6528bec12d2",
   "metadata": {
    "tags": []
   },
   "source": [
    "# Extract Haar-like features and store their responses\n",
    "haar_features = []\n",
    "for feature_type, feature_size in zip(feature_types, feature_sizes):\n",
    "    coords, _ = haar_like_feature_coord(image_resized.shape[0], image_resized.shape[1], feature_type=feature_type)\n",
    "    coords = [(c[0]*feature_size, c[1]*feature_size, c[2]*feature_size, c[3]*feature_size) for c in coords]\n",
    "    haar_features.extend(haar_like_feature(image_resized, coords))\n"
   ]
  },
  {
   "cell_type": "markdown",
   "id": "a46c9757-2d50-4115-9cd6-add77a3b492c",
   "metadata": {
    "tags": []
   },
   "source": [
    "\n",
    "# Print the responses of the extracted Haar-like features\n",
    "for feature_response in haar_features:\n",
    "    print(feature_response)"
   ]
  },
  {
   "cell_type": "code",
   "execution_count": null,
   "id": "0e326cc4-072d-4f22-bcdb-fda62f922012",
   "metadata": {},
   "outputs": [],
   "source": []
  }
 ],
 "metadata": {
  "kernelspec": {
   "display_name": "Python 3 (ipykernel)",
   "language": "python",
   "name": "python3"
  },
  "language_info": {
   "codemirror_mode": {
    "name": "ipython",
    "version": 3
   },
   "file_extension": ".py",
   "mimetype": "text/x-python",
   "name": "python",
   "nbconvert_exporter": "python",
   "pygments_lexer": "ipython3",
   "version": "3.10.10"
  }
 },
 "nbformat": 4,
 "nbformat_minor": 5
}
