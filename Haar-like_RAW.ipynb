{
 "cells": [
  {
   "cell_type": "code",
   "execution_count": 78,
   "id": "6750db3a-b9da-4705-8717-8d0589b2842f",
   "metadata": {
    "tags": []
   },
   "outputs": [],
   "source": [
    "import numpy as np\n",
    "from skimage.io import imread\n",
    "from skimage.transform import resize\n",
    "from skimage.feature import haar_like_feature, haar_like_feature_coord"
   ]
  },
  {
   "cell_type": "code",
   "execution_count": 79,
   "id": "94a1eb37-6faa-4b8d-830e-ac208dcc5577",
   "metadata": {
    "tags": []
   },
   "outputs": [],
   "source": [
    "# Define the image path\n",
    "image_path = \"/home/jovyan/ML_PROJECT/DATA/dataset_folder/GTSRB/Final_Training/Images/00000/00000_00007.ppm\"\n"
   ]
  },
  {
   "cell_type": "code",
   "execution_count": 80,
   "id": "2a38d88b-5af7-486b-8b59-b3720d5fffe2",
   "metadata": {
    "tags": []
   },
   "outputs": [],
   "source": [
    "# Load the image\n",
    "image = imread(image_path)"
   ]
  },
  {
   "cell_type": "code",
   "execution_count": 81,
   "id": "637155c6-d16f-44aa-b286-d678e40a6379",
   "metadata": {
    "tags": []
   },
   "outputs": [],
   "source": [
    "# Convert the image to grayscale\n",
    "image_gray = np.dot(image[..., :3], [0.2989, 0.5870, 0.1140])\n"
   ]
  },
  {
   "cell_type": "code",
   "execution_count": 82,
   "id": "5506b73e-392a-4bca-b0f4-6cdafae795fe",
   "metadata": {
    "tags": []
   },
   "outputs": [],
   "source": [
    "# Resize the image to 40x40 pixels using bilinear interpolation\n",
    "image_resized = resize(image_gray, (40, 40), mode='reflect')\n",
    "\n"
   ]
  },
  {
   "cell_type": "code",
   "execution_count": 83,
   "id": "917893e0-6afb-4ef9-b2bf-0bf1db9dc9e8",
   "metadata": {
    "tags": []
   },
   "outputs": [],
   "source": [
    "# Define the Haar-like features\n",
    "feature_types = ['type-2-x', 'type-2-y', 'type-3-x', 'type-3-y', 'type-4',\n",
    "                 'type-4', 'type-3-x', 'type-3-y', 'type-4', 'type-4',\n",
    "                 'type-2-x', 'type-2-x', 'type-3-x', 'type-3-x']\n",
    "feature_sizes = [4, 4, 6, 6, 8, 8, 6, 6, 9, 9, 6, 6, 10, 10]"
   ]
  },
  {
   "cell_type": "code",
   "execution_count": 84,
   "id": "7fee3138-5446-4e50-9839-0148c12a6c8c",
   "metadata": {
    "tags": []
   },
   "outputs": [
    {
     "ename": "IndexError",
     "evalue": "list index out of range",
     "output_type": "error",
     "traceback": [
      "\u001b[0;31m---------------------------------------------------------------------------\u001b[0m",
      "\u001b[0;31mIndexError\u001b[0m                                Traceback (most recent call last)",
      "Cell \u001b[0;32mIn[84], line 5\u001b[0m\n\u001b[1;32m      3\u001b[0m \u001b[38;5;28;01mfor\u001b[39;00m feature_type, feature_size \u001b[38;5;129;01min\u001b[39;00m \u001b[38;5;28mzip\u001b[39m(feature_types, feature_sizes):\n\u001b[1;32m      4\u001b[0m     coords, _ \u001b[38;5;241m=\u001b[39m haar_like_feature_coord(image_resized\u001b[38;5;241m.\u001b[39mshape[\u001b[38;5;241m0\u001b[39m], image_resized\u001b[38;5;241m.\u001b[39mshape[\u001b[38;5;241m1\u001b[39m], feature_type\u001b[38;5;241m=\u001b[39mfeature_type)\n\u001b[0;32m----> 5\u001b[0m     coords \u001b[38;5;241m=\u001b[39m [(c[\u001b[38;5;241m0\u001b[39m]\u001b[38;5;241m*\u001b[39mfeature_size, c[\u001b[38;5;241m1\u001b[39m]\u001b[38;5;241m*\u001b[39mfeature_size, c[\u001b[38;5;241m2\u001b[39m]\u001b[38;5;241m*\u001b[39mfeature_size, c[\u001b[38;5;241m3\u001b[39m]\u001b[38;5;241m*\u001b[39mfeature_size) \u001b[38;5;28;01mfor\u001b[39;00m c \u001b[38;5;129;01min\u001b[39;00m coords]\n\u001b[1;32m      6\u001b[0m     haar_features\u001b[38;5;241m.\u001b[39mextend(haar_like_feature(image_resized, coords))\n",
      "Cell \u001b[0;32mIn[84], line 5\u001b[0m, in \u001b[0;36m<listcomp>\u001b[0;34m(.0)\u001b[0m\n\u001b[1;32m      3\u001b[0m \u001b[38;5;28;01mfor\u001b[39;00m feature_type, feature_size \u001b[38;5;129;01min\u001b[39;00m \u001b[38;5;28mzip\u001b[39m(feature_types, feature_sizes):\n\u001b[1;32m      4\u001b[0m     coords, _ \u001b[38;5;241m=\u001b[39m haar_like_feature_coord(image_resized\u001b[38;5;241m.\u001b[39mshape[\u001b[38;5;241m0\u001b[39m], image_resized\u001b[38;5;241m.\u001b[39mshape[\u001b[38;5;241m1\u001b[39m], feature_type\u001b[38;5;241m=\u001b[39mfeature_type)\n\u001b[0;32m----> 5\u001b[0m     coords \u001b[38;5;241m=\u001b[39m [(c[\u001b[38;5;241m0\u001b[39m]\u001b[38;5;241m*\u001b[39mfeature_size, c[\u001b[38;5;241m1\u001b[39m]\u001b[38;5;241m*\u001b[39mfeature_size, \u001b[43mc\u001b[49m\u001b[43m[\u001b[49m\u001b[38;5;241;43m2\u001b[39;49m\u001b[43m]\u001b[49m\u001b[38;5;241m*\u001b[39mfeature_size, c[\u001b[38;5;241m3\u001b[39m]\u001b[38;5;241m*\u001b[39mfeature_size) \u001b[38;5;28;01mfor\u001b[39;00m c \u001b[38;5;129;01min\u001b[39;00m coords]\n\u001b[1;32m      6\u001b[0m     haar_features\u001b[38;5;241m.\u001b[39mextend(haar_like_feature(image_resized, coords))\n",
      "\u001b[0;31mIndexError\u001b[0m: list index out of range"
     ]
    }
   ],
   "source": [
    "# Extract Haar-like features and store their responses\n",
    "haar_features = []\n",
    "for feature_type, feature_size in zip(feature_types, feature_sizes):\n",
    "    coords, _ = haar_like_feature_coord(image_resized.shape[0], image_resized.shape[1], feature_type=feature_type)\n",
    "    coords = [(c[0]*feature_size, c[1]*feature_size, c[2]*feature_size, c[3]*feature_size) for c in coords]\n",
    "    haar_features.extend(haar_like_feature(image_resized, coords))\n"
   ]
  },
  {
   "cell_type": "code",
   "execution_count": 88,
   "id": "9cfb492e-2729-4d9d-bfa9-9fc835a1f808",
   "metadata": {
    "tags": []
   },
   "outputs": [
    {
     "name": "stdout",
     "output_type": "stream",
     "text": [
      "0\n"
     ]
    }
   ],
   "source": [
    "\n",
    "# Print the responses of the extracted Haar-like features\n",
    "for feature_response in haar_features:\n",
    "    print(feature_response)"
   ]
  },
  {
   "cell_type": "code",
   "execution_count": null,
   "id": "0e326cc4-072d-4f22-bcdb-fda62f922012",
   "metadata": {},
   "outputs": [],
   "source": []
  }
 ],
 "metadata": {
  "kernelspec": {
   "display_name": "Python 3 (ipykernel)",
   "language": "python",
   "name": "python3"
  },
  "language_info": {
   "codemirror_mode": {
    "name": "ipython",
    "version": 3
   },
   "file_extension": ".py",
   "mimetype": "text/x-python",
   "name": "python",
   "nbconvert_exporter": "python",
   "pygments_lexer": "ipython3",
   "version": "3.10.10"
  }
 },
 "nbformat": 4,
 "nbformat_minor": 5
}
