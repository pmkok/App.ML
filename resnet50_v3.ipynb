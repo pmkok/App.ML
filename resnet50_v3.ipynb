{
 "cells": [
  {
   "cell_type": "code",
   "execution_count": 1,
   "id": "75ba9906-d988-4481-9f9d-628d24f1ccee",
   "metadata": {
    "tags": []
   },
   "outputs": [
    {
     "name": "stderr",
     "output_type": "stream",
     "text": [
      "2023-05-30 07:08:28.389416: I tensorflow/tsl/cuda/cudart_stub.cc:28] Could not find cuda drivers on your machine, GPU will not be used.\n",
      "2023-05-30 07:08:28.431299: I tensorflow/tsl/cuda/cudart_stub.cc:28] Could not find cuda drivers on your machine, GPU will not be used.\n",
      "2023-05-30 07:08:29.211495: W tensorflow/compiler/tf2tensorrt/utils/py_utils.cc:38] TF-TRT Warning: Could not find TensorRT\n"
     ]
    }
   ],
   "source": [
    "import os\n",
    "import cv2\n",
    "import numpy as np\n",
    "from skimage.feature import hog\n",
    "from tensorflow.keras.applications import ResNet50\n",
    "from tensorflow.keras.preprocessing import image as keras_image\n",
    "from tensorflow.keras.models import Model"
   ]
  },
  {
   "cell_type": "code",
   "execution_count": 2,
   "id": "71948f0e-dc6b-40e9-867c-7be84b65ddf4",
   "metadata": {
    "tags": []
   },
   "outputs": [],
   "source": [
    "# Define the path to your dataset\n",
    "dataset_folder = '/home/jovyan/ML_PROJECT/DATA/dataset_folder/GTSRB/Final_Training/Images/00000'\n",
    "\n"
   ]
  },
  {
   "cell_type": "code",
   "execution_count": 3,
   "id": "d057bfbf-f092-4594-a93a-e8faff625f59",
   "metadata": {
    "tags": []
   },
   "outputs": [],
   "source": [
    "\n",
    "# Initialize an empty list to store the HOG features\n",
    "hog_features = []"
   ]
  },
  {
   "cell_type": "code",
   "execution_count": 8,
   "id": "3fa0b26d-f6f7-4dcb-8353-bd42ff0e157d",
   "metadata": {
    "tags": []
   },
   "outputs": [],
   "source": [
    "# Load the pre-trained ResNet50 model\n",
    "resnet_model = ResNet50(weights='imagenet', include_top=False)"
   ]
  },
  {
   "cell_type": "code",
   "execution_count": 9,
   "id": "f82bc703-bf5b-4c93-af3f-1661cc96c874",
   "metadata": {
    "tags": []
   },
   "outputs": [],
   "source": [
    "# Create a new model with ResNet50 as the base and remove the top layer\n",
    "model = Model(inputs=resnet_model.input, outputs=resnet_model.layers[-2].output)"
   ]
  },
  {
   "cell_type": "code",
   "execution_count": 6,
   "id": "ea6813a6-c708-47e4-9e92-46cac4c4cf60",
   "metadata": {
    "tags": []
   },
   "outputs": [
    {
     "name": "stderr",
     "output_type": "stream",
     "text": [
      "[ WARN:0@181.760] global loadsave.cpp:244 findDecoder imread_('ML_PROJECT/DATA/dataset_folder/GTSRB/Final_Training/Images/00000/00000_00000.ppm'): can't open/read file: check file path/integrity\n"
     ]
    },
    {
     "ename": "error",
     "evalue": "OpenCV(4.7.0) /io/opencv/modules/highgui/src/window.cpp:971: error: (-215:Assertion failed) size.width>0 && size.height>0 in function 'imshow'\n",
     "output_type": "error",
     "traceback": [
      "\u001b[0;31m---------------------------------------------------------------------------\u001b[0m",
      "\u001b[0;31merror\u001b[0m                                     Traceback (most recent call last)",
      "Cell \u001b[0;32mIn[6], line 7\u001b[0m\n\u001b[1;32m      4\u001b[0m image \u001b[38;5;241m=\u001b[39m cv2\u001b[38;5;241m.\u001b[39mimread(image_path)\n\u001b[1;32m      6\u001b[0m \u001b[38;5;66;03m# Display the original image\u001b[39;00m\n\u001b[0;32m----> 7\u001b[0m \u001b[43mcv2\u001b[49m\u001b[38;5;241;43m.\u001b[39;49m\u001b[43mimshow\u001b[49m\u001b[43m(\u001b[49m\u001b[38;5;124;43m\"\u001b[39;49m\u001b[38;5;124;43mOriginal Image\u001b[39;49m\u001b[38;5;124;43m\"\u001b[39;49m\u001b[43m,\u001b[49m\u001b[43m \u001b[49m\u001b[43mimage\u001b[49m\u001b[43m)\u001b[49m\n\u001b[1;32m      8\u001b[0m cv2\u001b[38;5;241m.\u001b[39mwaitKey(\u001b[38;5;241m0\u001b[39m)\n",
      "\u001b[0;31merror\u001b[0m: OpenCV(4.7.0) /io/opencv/modules/highgui/src/window.cpp:971: error: (-215:Assertion failed) size.width>0 && size.height>0 in function 'imshow'\n"
     ]
    }
   ],
   "source": [
    "image_path = 'ML_PROJECT/DATA/dataset_folder/GTSRB/Final_Training/Images/00000/00000_00000.ppm'\n",
    "\n",
    " # Load the image using OpenCV\n",
    "image = cv2.imread(image_path)\n",
    "\n",
    "# Display the original image\n",
    "cv2.imshow(\"Original Image\", image)\n",
    "cv2.waitKey(0)\n",
    "\n"
   ]
  },
  {
   "cell_type": "code",
   "execution_count": null,
   "id": "3f6f76f7-9f7a-49a4-bfd8-f405f56719b5",
   "metadata": {
    "tags": []
   },
   "outputs": [],
   "source": [
    "# Iterate over the image files in the specified folder\n",
    "for filename in os.listdir(dataset_folder):\n",
    "    if filename.lower().endswith('.ppm'):\n",
    "        image_path = os.path.join(dataset_folder, filename)\n",
    "\n",
    "        # Load the image using OpenCV\n",
    "        image = cv2.imread(image_path)\n",
    "\n",
    "        # Display the original image\n",
    "        cv2.imshow(\"Original Image\", image)\n",
    "        cv2.waitKey(0)\n",
    "'''\n",
    "        # Preprocess the image\n",
    "        preprocessed_image = cv2.resize(image, (224, 224))\n",
    "        preprocessed_image = keras_image.img_to_array(preprocessed_image)\n",
    "        preprocessed_image = np.expand_dims(preprocessed_image, axis=0)\n",
    "\n",
    "        # Display the preprocessed image\n",
    "        preprocessed_image_display = np.squeeze(preprocessed_image)\n",
    "        cv2.imshow(\"Preprocessed Image\", preprocessed_image_display.astype(np.uint8))\n",
    "        cv2.waitKey(0)\n",
    "\n",
    "        # Normalize the image\n",
    "        preprocessed_image = preprocessed_image / 255.0\n",
    "\n",
    "        # Display the normalized image\n",
    "        normalized_image_display = np.squeeze(preprocessed_image)\n",
    "        cv2.imshow(\"Normalized Image\", normalized_image_display)\n",
    "        cv2.waitKey(0)\n",
    "\n",
    "        # Extract features using ResNet50\n",
    "        features = model.predict(preprocessed_image)\n",
    "\n",
    "        # Display the extracted features\n",
    "        features_display = np.squeeze(features)\n",
    "        cv2.imshow(\"Extracted Features\", features_display)\n",
    "        cv2.waitKey(0)\n",
    "\n",
    "        # Reshape the features array\n",
    "        features_2d = np.reshape(features, (features.shape[0], -1))\n",
    "\n",
    "        # Display the reshaped features\n",
    "        features_2d_display = np.squeeze(features_2d)\n",
    "        cv2.imshow(\"Reshaped Features\", features_2d_display)\n",
    "        cv2.waitKey(0)\n",
    "\n",
    "        # Check for valid dimensions\n",
    "        if features_2d.shape[1] <= 0:\n",
    "            continue\n",
    "\n",
    "        # Extract HOG features from the reshaped features\n",
    "        hog_feature = hog(features_2d[0], orientations=9, pixels_per_cell=(8, 8),\n",
    "                          cells_per_block=(2, 2), transform_sqrt=True)\n",
    "\n",
    "        # Append the HOG feature to the list\n",
    "        hog_features.append(hog_feature)\n",
    "\n",
    "# Close all the windows\n",
    "cv2.destroyAllWindows()\n",
    "\n",
    "'''"
   ]
  },
  {
   "cell_type": "code",
   "execution_count": null,
   "id": "b78e38fb-2304-409b-bb7b-d7297b2bafb5",
   "metadata": {
    "tags": []
   },
   "outputs": [],
   "source": [
    "hog_feature = hog(features_2d, orientations=9, pixels_per_cell=(8, 8),\n",
    "                              cells_per_block=(2, 2), transform_sqrt=True)"
   ]
  },
  {
   "cell_type": "code",
   "execution_count": null,
   "id": "754fb8a3-f8d0-43e0-bc55-6059bf79215e",
   "metadata": {
    "tags": []
   },
   "outputs": [],
   "source": [
    "# Convert the list of HOG features to a numpy array\n",
    "hog_features = np.array(hog_features)\n",
    "\n",
    "# Print the shape of the numpy array\n",
    "print(\"HOG features shape:\", hog_features.shape)"
   ]
  },
  {
   "cell_type": "code",
   "execution_count": null,
   "id": "603c3319-b469-408b-896e-6b70870e743b",
   "metadata": {},
   "outputs": [],
   "source": []
  },
  {
   "cell_type": "code",
   "execution_count": null,
   "id": "32dbf266-e8e0-4588-b9ef-88727ba66591",
   "metadata": {},
   "outputs": [],
   "source": []
  }
 ],
 "metadata": {
  "kernelspec": {
   "display_name": "Python 3 (ipykernel)",
   "language": "python",
   "name": "python3"
  },
  "language_info": {
   "codemirror_mode": {
    "name": "ipython",
    "version": 3
   },
   "file_extension": ".py",
   "mimetype": "text/x-python",
   "name": "python",
   "nbconvert_exporter": "python",
   "pygments_lexer": "ipython3",
   "version": "3.10.10"
  }
 },
 "nbformat": 4,
 "nbformat_minor": 5
}
