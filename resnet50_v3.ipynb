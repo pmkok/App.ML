{
 "cells": [
  {
   "cell_type": "code",
   "execution_count": 16,
   "id": "75ba9906-d988-4481-9f9d-628d24f1ccee",
   "metadata": {
    "tags": []
   },
   "outputs": [],
   "source": [
    "import os\n",
    "import cv2\n",
    "import numpy as np\n",
    "from skimage.feature import hog\n",
    "from tensorflow.keras.applications import ResNet50\n",
    "from matplotlib import pyplot as plt\n"
   ]
  },
  {
   "cell_type": "code",
   "execution_count": 17,
   "id": "71948f0e-dc6b-40e9-867c-7be84b65ddf4",
   "metadata": {
    "tags": []
   },
   "outputs": [],
   "source": [
    "# Define the path to your dataset\n",
    "dataset_folder = '/home/jovyan/ML_PROJECT/DATA/dataset_folder/GTSRB/Final_Training/Images'\n"
   ]
  },
  {
   "cell_type": "code",
   "execution_count": 18,
   "id": "d057bfbf-f092-4594-a93a-e8faff625f59",
   "metadata": {
    "tags": []
   },
   "outputs": [],
   "source": [
    "\n",
    "# Initialize an empty list to store the HOG features\n",
    "hog_features = []"
   ]
  },
  {
   "cell_type": "code",
   "execution_count": 19,
   "id": "f82bc703-bf5b-4c93-af3f-1661cc96c874",
   "metadata": {
    "tags": []
   },
   "outputs": [],
   "source": [
    "# Initialize the ResNet50 model\n",
    "resnet_model = ResNet50(weights='imagenet', include_top=False)"
   ]
  },
  {
   "cell_type": "code",
   "execution_count": 20,
   "id": "e9ec4008-f4a2-417b-b230-ca9b5230189a",
   "metadata": {
    "tags": []
   },
   "outputs": [
    {
     "ename": "NameError",
     "evalue": "name 'image_resized' is not defined",
     "output_type": "error",
     "traceback": [
      "\u001b[0;31m---------------------------------------------------------------------------\u001b[0m",
      "\u001b[0;31mNameError\u001b[0m                                 Traceback (most recent call last)",
      "Cell \u001b[0;32mIn[20], line 35\u001b[0m\n\u001b[1;32m     33\u001b[0m preprocessed_image \u001b[38;5;241m=\u001b[39m cv2\u001b[38;5;241m.\u001b[39mresize(image, (\u001b[38;5;241m224\u001b[39m, \u001b[38;5;241m224\u001b[39m))\n\u001b[1;32m     34\u001b[0m preprocessed_image \u001b[38;5;241m=\u001b[39m np\u001b[38;5;241m.\u001b[39mexpand_dims(preprocessed_image, axis\u001b[38;5;241m=\u001b[39m\u001b[38;5;241m0\u001b[39m)\n\u001b[0;32m---> 35\u001b[0m preprocessed_image \u001b[38;5;241m=\u001b[39m cv2\u001b[38;5;241m.\u001b[39mcvtColor(\u001b[43mimage_resized\u001b[49m, cv2\u001b[38;5;241m.\u001b[39mCOLOR_BGR2GRAY)  \u001b[38;5;66;03m# Convert image to grayscale\u001b[39;00m\n\u001b[1;32m     37\u001b[0m \u001b[38;5;66;03m# Extract features using ResNet50\u001b[39;00m\n\u001b[1;32m     38\u001b[0m features \u001b[38;5;241m=\u001b[39m resnet_model\u001b[38;5;241m.\u001b[39mpredict(preprocessed_image)\n",
      "\u001b[0;31mNameError\u001b[0m: name 'image_resized' is not defined"
     ]
    }
   ],
   "source": [
    "# Iterate over the folders in the dataset\n",
    "for folder in range(1): #43\n",
    "    folder_path = os.path.join(dataset_folder, f\"{folder:05d}\")\n",
    "    \n",
    "    # Iterate over the image files in the current folder\n",
    "    for filename in os.listdir(folder_path):\n",
    "        if filename.endswith(\".ppm\"):\n",
    "            image_path = os.path.join(folder_path, filename)\n",
    "            \n",
    "             \n",
    "            # Load the image using OpenCV\n",
    "            image = cv2.imread(image_path)\n",
    "           \n",
    "            '''\n",
    "            # Get image information\n",
    "            image_shape = image.shape\n",
    "            image_dtype = image.dtype\n",
    "            print(\"Image Shape:\", image_shape)\n",
    "            print(\"Image Data Type:\", image_dtype)\n",
    "            ''' \n",
    "            \n",
    "            # Convert the BGR image to RGB for displaying with matplotlib\n",
    "            image_rgb = cv2.cvtColor(image, cv2.COLOR_BGR2RGB)\n",
    "            '''\n",
    "           \n",
    "            # Display the image\n",
    "            plt.imshow(image_rgb)\n",
    "            plt.axis('off')\n",
    "            plt.show()\n",
    "            '''\n",
    "           \n",
    "            # Preprocess the image for ResNet50\n",
    "            preprocessed_image = cv2.resize(image, (224, 224))\n",
    "            preprocessed_image = np.expand_dims(preprocessed_image, axis=0)\n",
    "            preprocessed_image = cv2.cvtColor(image_resized, cv2.COLOR_BGR2GRAY)  # Convert image to grayscale\n",
    "           \n",
    "            # Extract features using ResNet50\n",
    "            features = resnet_model.predict(preprocessed_image)\n",
    "            \n",
    "           \n",
    "              # Reshape the features array\n",
    "            features_2d = np.reshape(features, (features.shape[0], 100352))\n",
    "\n",
    "            # Extract HOG features from the reshaped features\n",
    "            hog_feature = hog(features_2d, orientations=9, pixels_per_cell=(8, 8),\n",
    "                  cells_per_block=(2, 2), transform_sqrt=True)\n",
    "\n",
    "            # Append the HOG feature to the list\n",
    "            hog_features.append(hog_feature)\n",
    "           "
   ]
  },
  {
   "cell_type": "code",
   "execution_count": 21,
   "id": "b78e38fb-2304-409b-bb7b-d7297b2bafb5",
   "metadata": {
    "tags": []
   },
   "outputs": [
    {
     "ename": "NameError",
     "evalue": "name 'features_2d' is not defined",
     "output_type": "error",
     "traceback": [
      "\u001b[0;31m---------------------------------------------------------------------------\u001b[0m",
      "\u001b[0;31mNameError\u001b[0m                                 Traceback (most recent call last)",
      "Cell \u001b[0;32mIn[21], line 1\u001b[0m\n\u001b[0;32m----> 1\u001b[0m hog_feature \u001b[38;5;241m=\u001b[39m hog(\u001b[43mfeatures_2d\u001b[49m, orientations\u001b[38;5;241m=\u001b[39m\u001b[38;5;241m9\u001b[39m, pixels_per_cell\u001b[38;5;241m=\u001b[39m(\u001b[38;5;241m8\u001b[39m, \u001b[38;5;241m8\u001b[39m),\n\u001b[1;32m      2\u001b[0m                               cells_per_block\u001b[38;5;241m=\u001b[39m(\u001b[38;5;241m2\u001b[39m, \u001b[38;5;241m2\u001b[39m), transform_sqrt\u001b[38;5;241m=\u001b[39m\u001b[38;5;28;01mTrue\u001b[39;00m)\n",
      "\u001b[0;31mNameError\u001b[0m: name 'features_2d' is not defined"
     ]
    }
   ],
   "source": [
    "hog_feature = hog(features_2d, orientations=9, pixels_per_cell=(8, 8),\n",
    "                              cells_per_block=(2, 2), transform_sqrt=True)"
   ]
  },
  {
   "cell_type": "code",
   "execution_count": 6,
   "id": "754fb8a3-f8d0-43e0-bc55-6059bf79215e",
   "metadata": {
    "tags": []
   },
   "outputs": [
    {
     "name": "stdout",
     "output_type": "stream",
     "text": [
      "HOG features shape: (0,)\n"
     ]
    }
   ],
   "source": [
    "# Convert the list of HOG features to a numpy array\n",
    "hog_features = np.array(hog_features)\n",
    "\n",
    "# Print the shape of the numpy array\n",
    "print(\"HOG features shape:\", hog_features.shape)"
   ]
  },
  {
   "cell_type": "code",
   "execution_count": null,
   "id": "603c3319-b469-408b-896e-6b70870e743b",
   "metadata": {},
   "outputs": [],
   "source": []
  },
  {
   "cell_type": "code",
   "execution_count": null,
   "id": "32dbf266-e8e0-4588-b9ef-88727ba66591",
   "metadata": {},
   "outputs": [],
   "source": []
  }
 ],
 "metadata": {
  "kernelspec": {
   "display_name": "Python 3 (ipykernel)",
   "language": "python",
   "name": "python3"
  },
  "language_info": {
   "codemirror_mode": {
    "name": "ipython",
    "version": 3
   },
   "file_extension": ".py",
   "mimetype": "text/x-python",
   "name": "python",
   "nbconvert_exporter": "python",
   "pygments_lexer": "ipython3",
   "version": "3.10.10"
  }
 },
 "nbformat": 4,
 "nbformat_minor": 5
}
