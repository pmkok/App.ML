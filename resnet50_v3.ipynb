{
 "cells": [
  {
   "cell_type": "code",
   "execution_count": 7,
   "id": "75ba9906-d988-4481-9f9d-628d24f1ccee",
   "metadata": {
    "tags": []
   },
   "outputs": [],
   "source": [
    "import os\n",
    "import cv2\n",
    "import numpy as np\n",
    "from skimage.feature import hog\n",
    "from tensorflow.keras.applications import ResNet50\n",
    "from matplotlib import pyplot as plt\n"
   ]
  },
  {
   "cell_type": "code",
   "execution_count": 8,
   "id": "71948f0e-dc6b-40e9-867c-7be84b65ddf4",
   "metadata": {
    "tags": []
   },
   "outputs": [],
   "source": [
    "# Define the path to your dataset\n",
    "dataset_folder = '/home/jovyan/ML_PROJECT/DATA/dataset_folder/GTSRB/Final_Training/Images'\n"
   ]
  },
  {
   "cell_type": "code",
   "execution_count": 9,
   "id": "d057bfbf-f092-4594-a93a-e8faff625f59",
   "metadata": {
    "tags": []
   },
   "outputs": [],
   "source": [
    "\n",
    "# Initialize an empty list to store the HOG features\n",
    "hog_features = []"
   ]
  },
  {
   "cell_type": "code",
   "execution_count": 4,
   "id": "f82bc703-bf5b-4c93-af3f-1661cc96c874",
   "metadata": {
    "tags": []
   },
   "outputs": [],
   "source": [
    "# Initialize the ResNet50 model\n",
    "resnet_model = ResNet50(weights='imagenet', include_top=False)"
   ]
  },
  {
   "cell_type": "code",
   "execution_count": 18,
   "id": "e9ec4008-f4a2-417b-b230-ca9b5230189a",
   "metadata": {
    "tags": []
   },
   "outputs": [
    {
     "name": "stdout",
     "output_type": "stream",
     "text": [
      "1/1 [==============================] - 0s 91ms/step\n"
     ]
    },
    {
     "ename": "ValueError",
     "evalue": "negative dimensions are not allowed",
     "output_type": "error",
     "traceback": [
      "\u001b[0;31m---------------------------------------------------------------------------\u001b[0m",
      "\u001b[0;31mValueError\u001b[0m                                Traceback (most recent call last)",
      "Cell \u001b[0;32mIn[18], line 44\u001b[0m\n\u001b[1;32m     41\u001b[0m features_2d \u001b[38;5;241m=\u001b[39m np\u001b[38;5;241m.\u001b[39mreshape(features, (features\u001b[38;5;241m.\u001b[39mshape[\u001b[38;5;241m0\u001b[39m], \u001b[38;5;241m100352\u001b[39m))\n\u001b[1;32m     43\u001b[0m \u001b[38;5;66;03m# Extract HOG features from the reshaped features\u001b[39;00m\n\u001b[0;32m---> 44\u001b[0m hog_feature \u001b[38;5;241m=\u001b[39m \u001b[43mhog\u001b[49m\u001b[43m(\u001b[49m\u001b[43mfeatures_2d\u001b[49m\u001b[43m,\u001b[49m\u001b[43m \u001b[49m\u001b[43morientations\u001b[49m\u001b[38;5;241;43m=\u001b[39;49m\u001b[38;5;241;43m9\u001b[39;49m\u001b[43m,\u001b[49m\u001b[43m \u001b[49m\u001b[43mpixels_per_cell\u001b[49m\u001b[38;5;241;43m=\u001b[39;49m\u001b[43m(\u001b[49m\u001b[38;5;241;43m8\u001b[39;49m\u001b[43m,\u001b[49m\u001b[43m \u001b[49m\u001b[38;5;241;43m8\u001b[39;49m\u001b[43m)\u001b[49m\u001b[43m,\u001b[49m\n\u001b[1;32m     45\u001b[0m \u001b[43m      \u001b[49m\u001b[43mcells_per_block\u001b[49m\u001b[38;5;241;43m=\u001b[39;49m\u001b[43m(\u001b[49m\u001b[38;5;241;43m2\u001b[39;49m\u001b[43m,\u001b[49m\u001b[43m \u001b[49m\u001b[38;5;241;43m2\u001b[39;49m\u001b[43m)\u001b[49m\u001b[43m,\u001b[49m\u001b[43m \u001b[49m\u001b[43mtransform_sqrt\u001b[49m\u001b[38;5;241;43m=\u001b[39;49m\u001b[38;5;28;43;01mTrue\u001b[39;49;00m\u001b[43m)\u001b[49m\n\u001b[1;32m     47\u001b[0m \u001b[38;5;66;03m# Append the HOG feature to the list\u001b[39;00m\n\u001b[1;32m     48\u001b[0m hog_features\u001b[38;5;241m.\u001b[39mappend(hog_feature)\n",
      "File \u001b[0;32m/opt/conda/lib/python3.10/site-packages/skimage/_shared/utils.py:326\u001b[0m, in \u001b[0;36mchannel_as_last_axis.__call__.<locals>.fixed_func\u001b[0;34m(*args, **kwargs)\u001b[0m\n\u001b[1;32m    323\u001b[0m channel_axis \u001b[38;5;241m=\u001b[39m kwargs\u001b[38;5;241m.\u001b[39mget(\u001b[38;5;124m'\u001b[39m\u001b[38;5;124mchannel_axis\u001b[39m\u001b[38;5;124m'\u001b[39m, \u001b[38;5;28;01mNone\u001b[39;00m)\n\u001b[1;32m    325\u001b[0m \u001b[38;5;28;01mif\u001b[39;00m channel_axis \u001b[38;5;129;01mis\u001b[39;00m \u001b[38;5;28;01mNone\u001b[39;00m:\n\u001b[0;32m--> 326\u001b[0m     \u001b[38;5;28;01mreturn\u001b[39;00m \u001b[43mfunc\u001b[49m\u001b[43m(\u001b[49m\u001b[38;5;241;43m*\u001b[39;49m\u001b[43margs\u001b[49m\u001b[43m,\u001b[49m\u001b[43m \u001b[49m\u001b[38;5;241;43m*\u001b[39;49m\u001b[38;5;241;43m*\u001b[39;49m\u001b[43mkwargs\u001b[49m\u001b[43m)\u001b[49m\n\u001b[1;32m    328\u001b[0m \u001b[38;5;66;03m# TODO: convert scalars to a tuple in anticipation of eventually\u001b[39;00m\n\u001b[1;32m    329\u001b[0m \u001b[38;5;66;03m#       supporting a tuple of channel axes. Right now, only an\u001b[39;00m\n\u001b[1;32m    330\u001b[0m \u001b[38;5;66;03m#       integer or a single-element tuple is supported, though.\u001b[39;00m\n\u001b[1;32m    331\u001b[0m \u001b[38;5;28;01mif\u001b[39;00m np\u001b[38;5;241m.\u001b[39misscalar(channel_axis):\n",
      "File \u001b[0;32m/opt/conda/lib/python3.10/site-packages/skimage/feature/_hog.py:279\u001b[0m, in \u001b[0;36mhog\u001b[0;34m(image, orientations, pixels_per_cell, cells_per_block, block_norm, visualize, transform_sqrt, feature_vector, channel_axis)\u001b[0m\n\u001b[1;32m    277\u001b[0m n_blocks_row \u001b[38;5;241m=\u001b[39m (n_cells_row \u001b[38;5;241m-\u001b[39m b_row) \u001b[38;5;241m+\u001b[39m \u001b[38;5;241m1\u001b[39m\n\u001b[1;32m    278\u001b[0m n_blocks_col \u001b[38;5;241m=\u001b[39m (n_cells_col \u001b[38;5;241m-\u001b[39m b_col) \u001b[38;5;241m+\u001b[39m \u001b[38;5;241m1\u001b[39m\n\u001b[0;32m--> 279\u001b[0m normalized_blocks \u001b[38;5;241m=\u001b[39m \u001b[43mnp\u001b[49m\u001b[38;5;241;43m.\u001b[39;49m\u001b[43mzeros\u001b[49m\u001b[43m(\u001b[49m\n\u001b[1;32m    280\u001b[0m \u001b[43m    \u001b[49m\u001b[43m(\u001b[49m\u001b[43mn_blocks_row\u001b[49m\u001b[43m,\u001b[49m\u001b[43m \u001b[49m\u001b[43mn_blocks_col\u001b[49m\u001b[43m,\u001b[49m\u001b[43m \u001b[49m\u001b[43mb_row\u001b[49m\u001b[43m,\u001b[49m\u001b[43m \u001b[49m\u001b[43mb_col\u001b[49m\u001b[43m,\u001b[49m\u001b[43m \u001b[49m\u001b[43morientations\u001b[49m\u001b[43m)\u001b[49m\u001b[43m,\u001b[49m\n\u001b[1;32m    281\u001b[0m \u001b[43m    \u001b[49m\u001b[43mdtype\u001b[49m\u001b[38;5;241;43m=\u001b[39;49m\u001b[43mfloat_dtype\u001b[49m\n\u001b[1;32m    282\u001b[0m \u001b[43m\u001b[49m\u001b[43m)\u001b[49m\n\u001b[1;32m    284\u001b[0m \u001b[38;5;28;01mfor\u001b[39;00m r \u001b[38;5;129;01min\u001b[39;00m \u001b[38;5;28mrange\u001b[39m(n_blocks_row):\n\u001b[1;32m    285\u001b[0m     \u001b[38;5;28;01mfor\u001b[39;00m c \u001b[38;5;129;01min\u001b[39;00m \u001b[38;5;28mrange\u001b[39m(n_blocks_col):\n",
      "\u001b[0;31mValueError\u001b[0m: negative dimensions are not allowed"
     ]
    }
   ],
   "source": [
    "# Iterate over the folders in the dataset\n",
    "for folder in range(1): #43\n",
    "    folder_path = os.path.join(dataset_folder, f\"{folder:05d}\")\n",
    "    \n",
    "    # Iterate over the image files in the current folder\n",
    "    for filename in os.listdir(folder_path):\n",
    "        if filename.endswith(\".ppm\"):\n",
    "            image_path = os.path.join(folder_path, filename)\n",
    "            \n",
    "             \n",
    "            # Load the image using OpenCV\n",
    "            image = cv2.imread(image_path)\n",
    "           \n",
    "            '''\n",
    "            # Get image information\n",
    "            image_shape = image.shape\n",
    "            image_dtype = image.dtype\n",
    "            print(\"Image Shape:\", image_shape)\n",
    "            print(\"Image Data Type:\", image_dtype)\n",
    "            ''' \n",
    "            \n",
    "            # Convert the BGR image to RGB for displaying with matplotlib\n",
    "            image_rgb = cv2.cvtColor(image, cv2.COLOR_BGR2RGB)\n",
    "            '''\n",
    "           \n",
    "            # Display the image\n",
    "            plt.imshow(image_rgb)\n",
    "            plt.axis('off')\n",
    "            plt.show()\n",
    "            '''\n",
    "           \n",
    "            # Preprocess the image for ResNet50\n",
    "            preprocessed_image = cv2.resize(image, (224, 224))\n",
    "            preprocessed_image = np.expand_dims(preprocessed_image, axis=0)\n",
    "           \n",
    "            # Extract features using ResNet50\n",
    "            features = resnet_model.predict(preprocessed_image)\n",
    "            \n",
    "           \n",
    "              # Reshape the features array\n",
    "            features_2d = np.reshape(features, (features.shape[0], 100352))\n",
    "\n",
    "            # Extract HOG features from the reshaped features\n",
    "            hog_feature = hog(features_2d, orientations=9, pixels_per_cell=(8, 8),\n",
    "                  cells_per_block=(2, 2), transform_sqrt=True)\n",
    "\n",
    "            # Append the HOG feature to the list\n",
    "            hog_features.append(hog_feature)\n",
    "           "
   ]
  },
  {
   "cell_type": "code",
   "execution_count": 12,
   "id": "b78e38fb-2304-409b-bb7b-d7297b2bafb5",
   "metadata": {
    "tags": []
   },
   "outputs": [
    {
     "ename": "NameError",
     "evalue": "name 'features_2d' is not defined",
     "output_type": "error",
     "traceback": [
      "\u001b[0;31m---------------------------------------------------------------------------\u001b[0m",
      "\u001b[0;31mNameError\u001b[0m                                 Traceback (most recent call last)",
      "Cell \u001b[0;32mIn[12], line 1\u001b[0m\n\u001b[0;32m----> 1\u001b[0m hog_feature \u001b[38;5;241m=\u001b[39m hog(\u001b[43mfeatures_2d\u001b[49m, orientations\u001b[38;5;241m=\u001b[39m\u001b[38;5;241m9\u001b[39m, pixels_per_cell\u001b[38;5;241m=\u001b[39m(\u001b[38;5;241m8\u001b[39m, \u001b[38;5;241m8\u001b[39m),\n\u001b[1;32m      2\u001b[0m                               cells_per_block\u001b[38;5;241m=\u001b[39m(\u001b[38;5;241m2\u001b[39m, \u001b[38;5;241m2\u001b[39m), transform_sqrt\u001b[38;5;241m=\u001b[39m\u001b[38;5;28;01mTrue\u001b[39;00m)\n",
      "\u001b[0;31mNameError\u001b[0m: name 'features_2d' is not defined"
     ]
    }
   ],
   "source": [
    "hog_feature = hog(features_2d, orientations=9, pixels_per_cell=(8, 8),\n",
    "                              cells_per_block=(2, 2), transform_sqrt=True)"
   ]
  },
  {
   "cell_type": "code",
   "execution_count": 6,
   "id": "754fb8a3-f8d0-43e0-bc55-6059bf79215e",
   "metadata": {
    "tags": []
   },
   "outputs": [
    {
     "name": "stdout",
     "output_type": "stream",
     "text": [
      "HOG features shape: (0,)\n"
     ]
    }
   ],
   "source": [
    "# Convert the list of HOG features to a numpy array\n",
    "hog_features = np.array(hog_features)\n",
    "\n",
    "# Print the shape of the numpy array\n",
    "print(\"HOG features shape:\", hog_features.shape)"
   ]
  },
  {
   "cell_type": "code",
   "execution_count": null,
   "id": "603c3319-b469-408b-896e-6b70870e743b",
   "metadata": {},
   "outputs": [],
   "source": []
  },
  {
   "cell_type": "code",
   "execution_count": null,
   "id": "32dbf266-e8e0-4588-b9ef-88727ba66591",
   "metadata": {},
   "outputs": [],
   "source": []
  }
 ],
 "metadata": {
  "kernelspec": {
   "display_name": "Python 3 (ipykernel)",
   "language": "python",
   "name": "python3"
  },
  "language_info": {
   "codemirror_mode": {
    "name": "ipython",
    "version": 3
   },
   "file_extension": ".py",
   "mimetype": "text/x-python",
   "name": "python",
   "nbconvert_exporter": "python",
   "pygments_lexer": "ipython3",
   "version": "3.10.10"
  }
 },
 "nbformat": 4,
 "nbformat_minor": 5
}
