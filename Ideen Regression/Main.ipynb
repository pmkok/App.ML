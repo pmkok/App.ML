{
 "cells": [
  {
   "cell_type": "code",
   "execution_count": 1,
   "id": "6e412a22-3549-41da-acbb-ea494e9451f8",
   "metadata": {
    "tags": []
   },
   "outputs": [],
   "source": [
    "import xarray as xarr"
   ]
  },
  {
   "cell_type": "code",
   "execution_count": null,
   "id": "95e7c597-f511-4449-87f8-fa2eca57d7e0",
   "metadata": {},
   "outputs": [],
   "source": []
  }
 ],
 "metadata": {
  "kernelspec": {
   "display_name": "Python 3 (ipykernel)",
   "language": "python",
   "name": "python3"
  },
  "language_info": {
   "codemirror_mode": {
    "name": "ipython",
    "version": 3
   },
   "file_extension": ".py",
   "mimetype": "text/x-python",
   "name": "python",
   "nbconvert_exporter": "python",
   "pygments_lexer": "ipython3",
   "version": "3.10.10"
  }
 },
 "nbformat": 4,
 "nbformat_minor": 5
}
