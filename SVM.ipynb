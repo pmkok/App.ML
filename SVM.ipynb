{
 "cells": [
  {
   "cell_type": "markdown",
   "id": "af770411-1bea-4abc-88f6-736e30ae8964",
   "metadata": {},
   "source": [
    "Predicting german traffic signs using HOG features and classifing with a SVM"
   ]
  },
  {
   "cell_type": "code",
   "execution_count": null,
   "id": "ff9d54ea-bb4d-4bcf-9b4c-d428a2bda5c6",
   "metadata": {},
   "outputs": [],
   "source": []
  },
  {
   "cell_type": "code",
   "execution_count": 25,
   "id": "9f90d092-2c06-4354-8fc3-855d9bf64d56",
   "metadata": {},
   "outputs": [],
   "source": [
    "from sklearn.datasets import make_moons\n",
    "from sklearn.svm import SVC\n",
    "from sklearn.pipeline import make_pipeline\n",
    "from sklearn.preprocessing import StandardScaler\n",
    "from sklearn.model_selection import train_test_split\n",
    "import os\n",
    "import numpy as np\n",
    "from sklearn.metrics import accuracy_score\n",
    "\n",
    "# Define the path to your dataset\n",
    "\n",
    "def read_data(folder_path):\n",
    "        \n",
    "    X = []\n",
    "    y = []\n",
    "\n",
    "    for class_label in range(43):\n",
    "        class_folder = os.path.join(folder_path, str(class_label))\n",
    "        \n",
    "        for file_name in os.listdir(class_folder):\n",
    "            if file_name.endswith(\".txt\"):\n",
    "                file_path = os.path.join(class_folder, file_name)\n",
    "                \n",
    "                with open(file_path, \"r\") as file:\n",
    "                    features = file.read().splitlines()\n",
    "                    X.append(features)\n",
    "                    y.append(class_label)\n",
    "    \n",
    "    return np.array(X), np.array(y)\n",
    "\n",
    "folder_path_train = '/home/jovyan/DATA/dataset_folder_hog_sorted_train/GTSRB_Features_HOG/training/HOG_01'\n",
    "folder_path_test = \"/home/jovyan/DATA/dataset_folder_hog_sorted_test/GTSRB/Online-Test-sort/HOG/HOG_01\"\n",
    "\n",
    "X_train, y_train = read_data(folder_path_train)\n",
    "X_test, y_test = read_data(folder_path_test)"
   ]
  },
  {
   "cell_type": "code",
   "execution_count": null,
   "id": "d1377ae5-308d-4087-a12e-975ea5232690",
   "metadata": {
    "tags": []
   },
   "outputs": [],
   "source": [
    "#define our dataset\n",
    "clf= make_pipeline(StandardScaler(),SVC(kernel=\"rbf\", gamma= 1, C= 5))\n",
    "clf.fit(X_train,y_train)\n",
    "y_pred = clf.predict(X_test)\n",
    "accuracy = accuracy_score(y_test, y_pred)\n",
    "print(\"Accuracy:\", accuracy)"
   ]
  },
  {
   "cell_type": "code",
   "execution_count": 24,
   "id": "fc464de9-480f-42ec-b96b-cd9600994109",
   "metadata": {
    "tags": []
   },
   "outputs": [
    {
     "data": {
      "text/plain": [
       "0"
      ]
     },
     "execution_count": 24,
     "metadata": {},
     "output_type": "execute_result"
    }
   ],
   "source": []
  },
  {
   "cell_type": "code",
   "execution_count": null,
   "id": "c51f9515-66ed-4b6b-9865-158a341e030f",
   "metadata": {},
   "outputs": [],
   "source": []
  }
 ],
 "metadata": {
  "kernelspec": {
   "display_name": "Python 3 (ipykernel)",
   "language": "python",
   "name": "python3"
  },
  "language_info": {
   "codemirror_mode": {
    "name": "ipython",
    "version": 3
   },
   "file_extension": ".py",
   "mimetype": "text/x-python",
   "name": "python",
   "nbconvert_exporter": "python",
   "pygments_lexer": "ipython3",
   "version": "3.10.10"
  },
  "toc-autonumbering": true,
  "toc-showmarkdowntxt": true
 },
 "nbformat": 4,
 "nbformat_minor": 5
}
