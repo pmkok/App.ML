{
 "cells": [
  {
   "cell_type": "code",
   "execution_count": null,
   "id": "473ae150-0d71-46d0-8282-abce51222523",
   "metadata": {},
   "outputs": [],
   "source": [
    "import numpy as np\n",
    "import skimage.feature as skif\n",
    "from skimage.transform import resize\n",
    "import tensorflow as tf\n",
    "from tensorflow.keras.applications.resnet50 import ResNet50\n",
    "from tensorflow.keras.applications.resnet50 import preprocess_input\n",
    "import os\n",
    "from PIL import Image"
   ]
  },
  {
   "cell_type": "code",
   "execution_count": null,
   "id": "2879b97c-831e-45bc-85d1-974f1e6756ae",
   "metadata": {},
   "outputs": [],
   "source": [
    "\n",
    "# Load the ResNet-50 model (pretrained on ImageNet)\n",
    "resnet_model = ResNet50(weights='imagenet', include_top=False, input_shape=(224, 224, 3))\n"
   ]
  },
  {
   "cell_type": "code",
   "execution_count": null,
   "id": "9767abe3-aec0-421e-ae66-f29763288adb",
   "metadata": {},
   "outputs": [],
   "source": [
    "\n",
    "# Function to extract HOG features from an image\n",
    "def extract_hog_features(image):\n",
    "    resized_image = resize(image, (224, 224))  # Resize the image to match ResNet-50 input shape\n",
    "    preprocessed_image = preprocess_input(resized_image)  # Preprocess the image for ResNet-50\n",
    "    features = resnet_model.predict(np.expand_dims(preprocessed_image, axis=0))  # Get ResNet-50 features\n",
    "    \n",
    "    # Convert features to HOG representation\n",
    "    hog_features = skif.hog(features.flatten(), orientations=8, pixels_per_cell=(16, 16),\n",
    "                            cells_per_block=(1, 1))\n",
    "    \n",
    "    return hog_features"
   ]
  },
  {
   "cell_type": "code",
   "execution_count": null,
   "id": "c917f834-a08e-46d0-85d4-2d1e91125454",
   "metadata": {},
   "outputs": [],
   "source": [
    "\n",
    "# Set the path to the dataset directory\n",
    "dataset_dir = \"path/to/dataset\"\n",
    "\n",
    "# Set the output directory for HOG features\n",
    "output_dir = \"path/to/output\"\n",
    "\n",
    "# Create the output directory if it doesn't exist\n",
    "os.makedirs(output_dir, exist_ok=True)\n",
    "\n",
    "# Iterate over images in the dataset directory\n",
    "for filename in os.listdir(dataset_dir):\n",
    "    image_path = os.path.join(dataset_dir, filename)\n",
    "    if os.path.isfile(image_path):\n",
    "        # Load and process the image\n",
    "        image = np.array(Image.open(image_path).convert(\"RGB\"))\n",
    "        \n",
    "        # Extract HOG features\n",
    "        hog_features = extract_hog_features(image)\n",
    "        \n",
    "        # Save the HOG features as a numpy array\n",
    "        output_path = os.path.join(output_dir, f\"{filename}.npy\")\n",
    "        np.save(output_path, hog_features)\n",
    "        print(f\"Saved HOG features for {filename}\")\n"
   ]
  }
 ],
 "metadata": {
  "kernelspec": {
   "display_name": "Python 3 (ipykernel)",
   "language": "python",
   "name": "python3"
  },
  "language_info": {
   "codemirror_mode": {
    "name": "ipython",
    "version": 3
   },
   "file_extension": ".py",
   "mimetype": "text/x-python",
   "name": "python",
   "nbconvert_exporter": "python",
   "pygments_lexer": "ipython3",
   "version": "3.10.10"
  }
 },
 "nbformat": 4,
 "nbformat_minor": 5
}
