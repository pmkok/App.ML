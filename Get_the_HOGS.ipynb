{
 "cells": [
  {
   "cell_type": "markdown",
   "id": "d30099c1-5379-4290-a42d-99496879b6da",
   "metadata": {},
   "source": [
    "Get the HOGS"
   ]
  },
  {
   "cell_type": "code",
   "execution_count": 1,
   "id": "42747517-5e07-410c-90bb-7cee54d2e96e",
   "metadata": {
    "tags": []
   },
   "outputs": [],
   "source": [
    "from skimage.io import imshow, imread\n",
    "from skimage.feature import hog\n",
    "from skimage import exposure\n",
    "import skimage.transform as transform\n",
    "import skimage.io\n",
    "import skimage.exposure\n",
    "\n",
    "\n",
    "from sklearn.pipeline import make_pipeline\n",
    "from sklearn.preprocessing import StandardScaler\n",
    "from sklearn.model_selection import train_test_split\n",
    "import os\n",
    "import numpy as np\n",
    "from sklearn.metrics import accuracy_score\n",
    "from sklearn.ensemble import RandomForestClassifier"
   ]
  },
  {
   "cell_type": "code",
   "execution_count": 2,
   "id": "9be6eae2-991a-46d7-832d-38e77fa512cf",
   "metadata": {
    "tags": []
   },
   "outputs": [],
   "source": [
    "def read_data(folder_path):\n",
    "    X = []\n",
    "    y = []\n",
    "\n",
    "    for class_label in range(43):\n",
    "        class_folder = os.path.join(folder_path, str(class_label))\n",
    "        \n",
    "        for file_name in os.listdir(class_folder):\n",
    "            if file_name.endswith(\".ppm\"):\n",
    "                file_path = os.path.join(class_folder, file_name)\n",
    "                \n",
    "                # Code snippet for hogz\n",
    "                img = skimage.io.imread(file_path, plugin='matplotlib')\n",
    "                img_gray = skimage.color.rgb2gray(img)\n",
    "                reshaped_img = transform.resize(img_gray, (40, 40))\n",
    "                normalized_image = skimage.exposure.rescale_intensity(reshaped_img, in_range='image', out_range=(0, 1))\n",
    "                hog_features, hog_image = hog(normalized_image, orientations=8, pixels_per_cell=(6, 6), cells_per_block=(2, 2), visualize=True)\n",
    "                hog_image_rescaled = exposure.rescale_intensity(hog_image, in_range=(0, 5))\n",
    "                hog_features_array = hog_features.reshape(-1)\n",
    "                X.append(hog_features_array)\n",
    "                y.append(class_label)\n",
    "\n",
    "    return np.array(X), np.array(y)\n",
    "\n",
    "folder_path_train = \"/home/jovyan/DATA/dataset_folder_train_images/GTSRB/Final_Training/Images\"\n",
    "\n",
    "X,y = read_data(folder_path_train)"
   ]
  },
  {
   "cell_type": "code",
   "execution_count": null,
   "id": "54436828-1f2a-48a6-9ecb-92071b2b6b66",
   "metadata": {},
   "outputs": [],
   "source": []
  },
  {
   "cell_type": "markdown",
   "id": "de10d832-3da1-4068-8198-d1a99aefb44d",
   "metadata": {
    "tags": []
   },
   "source": [
    "from sklearn.pipeline import make_pipeline\n",
    "from sklearn.preprocessing import StandardScaler\n",
    "from sklearn.model_selection import train_test_split\n",
    "import os\n",
    "import numpy as np\n",
    "from sklearn.metrics import accuracy_score\n",
    "from sklearn.ensemble import RandomForestClassifier\n",
    "\n",
    "# Define the path to your dataset\n",
    "\n",
    "def read_data(folder_path):\n",
    "        \n",
    "    X = []\n",
    "    y = []\n",
    "\n",
    "    for class_label in range(43):\n",
    "        class_folder = os.path.join(folder_path, str(class_label))\n",
    "        \n",
    "        for file_name in os.listdir(class_folder):\n",
    "            if file_name.endswith(\".ppm\"):\n",
    "                file_path = os.path.join(class_folder, file_name)\n",
    "                \n",
    "                with open(file_path, \"r\") as file:\n",
    "                    features = file.read().splitlines()\n",
    "                    \n",
    "                    \n",
    "                    \n",
    "                    \n",
    "                    \n",
    "                    \n",
    "                    \n",
    "                    X.append(features)\n",
    "                    y.append(class_label)\n",
    "    \n",
    "    return np.array(X), np.array(y)\n",
    "\n",
    "folder_path_train = '/home/jovyan/DATA/dataset_folder_train_images/GTSRB/Final_Training/Images'\n",
    "folder_path_test = \"/home/jovyan/DATA/dataset_folder_test_images/GTSRB/Final_Test/Images\"\n",
    "\n",
    "X_train, y_train = read_data(folder_path_train)\n",
    "#X_test, y_test = read_data(folder_path_test)"
   ]
  },
  {
   "cell_type": "markdown",
   "id": "c5d76c2c-d304-4641-b6e8-32cf82cba0c6",
   "metadata": {
    "tags": []
   },
   "source": [
    "# Bild einlesen\n",
    "img = skimage.io.imread('00000.ppm', plugin='matplotlib')\n",
    "\n",
    "# Graustufen-Konvertierung\n",
    "img_gray = skimage.color.rgb2gray(img)\n",
    "\n",
    "# Bildgröße anpassen\n",
    "reshaped_img = transform.resize(img_gray, (244, 244))\n",
    "\n",
    "# Normalisierung des Bildes\n",
    "normalized_image = skimage.exposure.rescale_intensity(reshaped_img, in_range='image', out_range=(0, 1))\n",
    "\n",
    "# HOG-Merkmale extrahieren\n",
    "hog_features, hog_image = hog(normalized_image, orientations=9, pixels_per_cell=(5, 5), cells_per_block=(2, 2), visualize=True)\n",
    "\n",
    "# Skalierung des HOG-Bildes\n",
    "hog_image_rescaled = exposure.rescale_intensity(hog_image, in_range=(0, 4))\n",
    "\n",
    "# HOG-Bild anzeigen\n",
    "#skimage.io.imshow(hog_image_rescaled)\n",
    "\n",
    "# HOG-Merkmale in ein Array speichern\n",
    "hog_features_array = hog_features.reshape(-1)\n",
    "\n",
    "print('HOG-Merkmale:', hog_features_array)"
   ]
  },
  {
   "cell_type": "code",
   "execution_count": null,
   "id": "e6da26d8-85aa-463f-8d6b-ce9c9a2f658a",
   "metadata": {},
   "outputs": [],
   "source": []
  }
 ],
 "metadata": {
  "kernelspec": {
   "display_name": "Python 3 (ipykernel)",
   "language": "python",
   "name": "python3"
  },
  "language_info": {
   "codemirror_mode": {
    "name": "ipython",
    "version": 3
   },
   "file_extension": ".py",
   "mimetype": "text/x-python",
   "name": "python",
   "nbconvert_exporter": "python",
   "pygments_lexer": "ipython3",
   "version": "3.10.10"
  }
 },
 "nbformat": 4,
 "nbformat_minor": 5
}
