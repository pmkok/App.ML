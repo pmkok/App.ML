{
 "cells": [
  {
   "cell_type": "markdown",
   "id": "d30099c1-5379-4290-a42d-99496879b6da",
   "metadata": {},
   "source": [
    "Get the HOGS"
   ]
  },
  {
   "cell_type": "code",
   "execution_count": 1,
   "id": "42747517-5e07-410c-90bb-7cee54d2e96e",
   "metadata": {
    "tags": []
   },
   "outputs": [],
   "source": [
    "from skimage.io import imshow, imread\n",
    "from skimage.feature import hog\n",
    "from skimage import exposure\n",
    "import skimage.transform as transform\n",
    "import skimage.io\n",
    "import skimage.exposure\n",
    "from sklearn.pipeline import make_pipeline\n",
    "from sklearn.preprocessing import StandardScaler\n",
    "from sklearn.model_selection import train_test_split\n",
    "import os\n",
    "import numpy as np\n",
    "from sklearn.metrics import accuracy_score\n",
    "from sklearn.ensemble import RandomForestClassifier\n",
    "from sklearn.svm import SVC"
   ]
  },
  {
   "cell_type": "code",
   "execution_count": 2,
   "id": "9be6eae2-991a-46d7-832d-38e77fa512cf",
   "metadata": {
    "tags": []
   },
   "outputs": [],
   "source": [
    "def read_data(folder_path):\n",
    "    X = []\n",
    "    y = []\n",
    "\n",
    "    for class_label in range(43):\n",
    "        class_folder = os.path.join(folder_path, str(class_label))\n",
    "        \n",
    "        for file_name in os.listdir(class_folder):\n",
    "            if file_name.endswith(\".ppm\"):\n",
    "                file_path = os.path.join(class_folder, file_name)\n",
    "                \n",
    "                # Code snippet for hogz\n",
    "                img = skimage.io.imread(file_path, plugin='matplotlib')\n",
    "                img_gray = skimage.color.rgb2gray(img)\n",
    "                reshaped_img = transform.resize(img_gray, (40, 40))\n",
    "                normalized_image = skimage.exposure.rescale_intensity(reshaped_img, in_range='image', out_range=(0, 1))\n",
    "                hog_features, hog_image = hog(normalized_image, orientations=8, pixels_per_cell=(6, 6), cells_per_block=(2, 2), visualize=True)\n",
    "                hog_image_rescaled = exposure.rescale_intensity(hog_image, in_range=(0, 5))\n",
    "                hog_features_array = hog_features.reshape(-1)\n",
    "                X.append(hog_features_array)\n",
    "                y.append(class_label)\n",
    "\n",
    "    return np.array(X), np.array(y)\n",
    "\n",
    "folder_path_train = \"/home/jovyan/DATA/dataset_folder_train_images/GTSRB/Final_Training/Images\"\n",
    "\n",
    "X,y = read_data(folder_path_train)"
   ]
  },
  {
   "cell_type": "code",
   "execution_count": 3,
   "id": "54436828-1f2a-48a6-9ecb-92071b2b6b66",
   "metadata": {
    "tags": []
   },
   "outputs": [
    {
     "name": "stdout",
     "output_type": "stream",
     "text": [
      "Accuracy for Random Forest: 0.9450395307319561\n"
     ]
    }
   ],
   "source": [
    "#random Forest\n",
    "X_train_forest, X_test_forest, y_train_forest, y_test_forest = train_test_split(X, y, test_size=0.2, random_state=42)\n",
    "scaler = StandardScaler()\n",
    "X_train_scaled_forest = scaler.fit_transform(X_train_forest)\n",
    "X_test_scaled_forest = scaler.transform(X_test_forest)\n",
    "\n",
    "# Create and train the Random Forest model\n",
    "random_forest = RandomForestClassifier()\n",
    "random_forest.fit(X_train_scaled_forest, y_train_forest)\n",
    "\n",
    "# Make predictions on the test set\n",
    "y_pred_forest = random_forest.predict(X_test_scaled_forest)\n",
    "\n",
    "# Evaluate the model\n",
    "accuracy_forest = accuracy_score(y_test_forest, y_pred_forest)\n",
    "print(\"Accuracy for Random Forest:\", accuracy_forest)\n"
   ]
  },
  {
   "cell_type": "code",
   "execution_count": 4,
   "id": "e6da26d8-85aa-463f-8d6b-ce9c9a2f658a",
   "metadata": {
    "tags": []
   },
   "outputs": [
    {
     "name": "stdout",
     "output_type": "stream",
     "text": [
      "Accuracy for a SVM: 0.9802346340219332\n"
     ]
    }
   ],
   "source": [
    "#SVM\n",
    "X_train_svm, X_test_svm, y_train_svm, y_test_svm = train_test_split(X, y, test_size=0.2, random_state=42)\n",
    "\n",
    "clf= make_pipeline(StandardScaler(),SVC(kernel=\"rbf\", gamma= \"auto\"))\n",
    "clf.fit(X_train_svm,y_train_svm)\n",
    "y_pred_svm = clf.predict(X_test_svm)\n",
    "accuracy_svm = accuracy_score(y_test_svm, y_pred_svm)\n",
    "print(\"Accuracy for a SVM:\", accuracy_svm)"
   ]
  }
 ],
 "metadata": {
  "kernelspec": {
   "display_name": "Python 3 (ipykernel)",
   "language": "python",
   "name": "python3"
  },
  "language_info": {
   "codemirror_mode": {
    "name": "ipython",
    "version": 3
   },
   "file_extension": ".py",
   "mimetype": "text/x-python",
   "name": "python",
   "nbconvert_exporter": "python",
   "pygments_lexer": "ipython3",
   "version": "3.10.10"
  }
 },
 "nbformat": 4,
 "nbformat_minor": 5
}
