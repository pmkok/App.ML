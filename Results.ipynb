{
 "cells": [
  {
   "cell_type": "markdown",
   "id": "08e0c4fd-1627-485a-b326-a1c97fb952ff",
   "metadata": {},
   "source": [
    "| Feature | SVM | Random Forest |\n",
    "|----------|----------|----------|\n",
    "|  HOG  |  98%  | 94.5%  |\n",
    "|  HUE  | 57.9%  | 74.7%  |\n",
    "|  HAAR-LIKE  |  FAILURE  | FAILURE  |"
   ]
  },
  {
   "cell_type": "code",
   "execution_count": null,
   "id": "f88e41bb-0b9d-4d98-8898-bd8a7dc117ab",
   "metadata": {},
   "outputs": [],
   "source": []
  }
 ],
 "metadata": {
  "kernelspec": {
   "display_name": "Python 3 (ipykernel)",
   "language": "python",
   "name": "python3"
  },
  "language_info": {
   "codemirror_mode": {
    "name": "ipython",
    "version": 3
   },
   "file_extension": ".py",
   "mimetype": "text/x-python",
   "name": "python",
   "nbconvert_exporter": "python",
   "pygments_lexer": "ipython3",
   "version": "3.10.10"
  }
 },
 "nbformat": 4,
 "nbformat_minor": 5
}
