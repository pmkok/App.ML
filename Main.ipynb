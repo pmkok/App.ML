{
 "cells": [
  {
   "cell_type": "markdown",
   "id": "af770411-1bea-4abc-88f6-736e30ae8964",
   "metadata": {},
   "source": [
    "Predicting german traffic signs"
   ]
  },
  {
   "cell_type": "code",
   "execution_count": 1,
   "id": "ff9d54ea-bb4d-4bcf-9b4c-d428a2bda5c6",
   "metadata": {},
   "outputs": [
    {
     "name": "stdout",
     "output_type": "stream",
     "text": [
      "Current directory: /home/jovyan/ML Projekkkkt/App.ML\n",
      "Updated directory: /home/jovyan\n",
      "blocker\n"
     ]
    }
   ],
   "source": [
    "# example:\n",
    "#            \n",
    "# trainImages, trainLabels = readTrafficSigns('GTSRB/Training')\n",
    "# print len(trainLabels), len(trainImages)\n",
    "# plt.imshow(trainImages[42])\n",
    "# plt.show()\n",
    "#\n",
    "# have fun, Christian\n",
    "\n",
    "import matplotlib.pyplot as plt\n",
    "import csv\n",
    "import os\n",
    "\n",
    "\n",
    "current_dir = os.getcwd()\n",
    "print(\"Current directory:\" ,current_dir)\n",
    "\n",
    "new_dir = '/home/jovyan/'\n",
    "os.chdir(new_dir)\n",
    "\n",
    "updated_dir = os.getcwd()\n",
    "print('Updated directory:', updated_dir)\n",
    "\n",
    "# function for reading the images\n",
    "# arguments: path to the traffic sign data, for example './GTSRB/Training'\n",
    "# returns: list of images, list of corresponding labels \n",
    "def readTrafficSigns(rootpath):\n",
    "    '''Reads traffic sign data for German Traffic Sign Recognition Benchmark.\n",
    "\n",
    "    Arguments: path to the traffic sign data, for example './GTSRB/Training'\n",
    "    Returns:   list of images, list of corresponding labels'''\n",
    "    images = [] # images\n",
    "    labels = [] # corresponding labels\n",
    "    # loop over all 42 classes\n",
    "    for c in range(0,43):\n",
    "        prefix = rootpath + '/' + format(c, '05d') + '/' # subdirectory for class\n",
    "        gtFile = open(prefix + 'GT-'+ format(c, '05d') + '.csv') # annotations file\n",
    "        gtReader = csv.reader(gtFile, delimiter=';') # csv parser for annotations file\n",
    "        next(gtReader) # skip header\n",
    "        # loop over all images in current annotations file\n",
    "        for row in gtReader:\n",
    "            images.append(plt.imread(prefix + row[0])) # the 1th column is the filename\n",
    "            labels.append(row[7]) # the 8th column is the label\n",
    "        gtFile.close()\n",
    "    return images, labels\n",
    "\n",
    "\n",
    "our_data = readTrafficSigns(\"DATA/dataset_folder/GTSRB/Final_Training/Images\")\n",
    "\n",
    "print(\"blocker\")\n",
    "\n"
   ]
  },
  {
   "cell_type": "code",
   "execution_count": 2,
   "id": "9f90d092-2c06-4354-8fc3-855d9bf64d56",
   "metadata": {},
   "outputs": [
    {
     "name": "stderr",
     "output_type": "stream",
     "text": [
      "/opt/conda/lib/python3.10/site-packages/numpy/core/fromnumeric.py:2009: VisibleDeprecationWarning: Creating an ndarray from ragged nested sequences (which is a list-or-tuple of lists-or-tuples-or ndarrays with different lengths or shapes) is deprecated. If you meant to do this, you must specify 'dtype=object' when creating the ndarray.\n",
      "  result = asarray(a).shape\n"
     ]
    },
    {
     "data": {
      "text/plain": [
       "(2, 39209)"
      ]
     },
     "execution_count": 2,
     "metadata": {},
     "output_type": "execute_result"
    }
   ],
   "source": [
    "import numpy as np\n",
    "#our_data[[0][0]]\n",
    "np.shape(our_data)"
   ]
  },
  {
   "cell_type": "code",
   "execution_count": 6,
   "id": "54998b72-de12-4cd8-9b86-2e876e928a1a",
   "metadata": {
    "tags": []
   },
   "outputs": [
    {
     "data": {
      "text/plain": [
       "array([[[143, 111, 111],\n",
       "        [188, 111, 117],\n",
       "        [186,  64,  61],\n",
       "        ...,\n",
       "        [143,  86,  82],\n",
       "        [122,  92,  87],\n",
       "        [ 85,  81,  75]],\n",
       "\n",
       "       [[182, 129, 121],\n",
       "        [175,  85,  83],\n",
       "        [182,  54,  45],\n",
       "        ...,\n",
       "        [167,  94,  86],\n",
       "        [138,  97, 101],\n",
       "        [ 90,  81,  78]],\n",
       "\n",
       "       [[183, 109, 106],\n",
       "        [163,  59,  55],\n",
       "        [188,  54,  46],\n",
       "        ...,\n",
       "        [166,  76,  71],\n",
       "        [154, 102, 109],\n",
       "        [ 91,  77,  76]],\n",
       "\n",
       "       ...,\n",
       "\n",
       "       [[134, 109,  82],\n",
       "        [142, 116,  85],\n",
       "        [151, 124,  77],\n",
       "        ...,\n",
       "        [ 68,  67,  65],\n",
       "        [ 72,  71,  70],\n",
       "        [ 78,  76,  74]],\n",
       "\n",
       "       [[163, 107,  59],\n",
       "        [247, 191, 123],\n",
       "        [249, 193, 112],\n",
       "        ...,\n",
       "        [ 68,  69,  69],\n",
       "        [ 67,  67,  68],\n",
       "        [ 72,  71,  71]],\n",
       "\n",
       "       [[154, 105,  36],\n",
       "        [234, 193,  88],\n",
       "        [236, 203,  88],\n",
       "        ...,\n",
       "        [ 73,  71,  74],\n",
       "        [ 68,  67,  70],\n",
       "        [ 71,  70,  73]]], dtype=uint8)"
      ]
     },
     "execution_count": 6,
     "metadata": {},
     "output_type": "execute_result"
    }
   ],
   "source": [
    "our_data[0][10]"
   ]
  },
  {
   "cell_type": "code",
   "execution_count": null,
   "id": "c779c1a7-c391-4401-bb6b-0b77539da2e5",
   "metadata": {},
   "outputs": [],
   "source": []
  }
 ],
 "metadata": {
  "kernelspec": {
   "display_name": "Python 3 (ipykernel)",
   "language": "python",
   "name": "python3"
  },
  "language_info": {
   "codemirror_mode": {
    "name": "ipython",
    "version": 3
   },
   "file_extension": ".py",
   "mimetype": "text/x-python",
   "name": "python",
   "nbconvert_exporter": "python",
   "pygments_lexer": "ipython3",
   "version": "3.10.10"
  },
  "toc-autonumbering": true,
  "toc-showmarkdowntxt": true
 },
 "nbformat": 4,
 "nbformat_minor": 5
}
