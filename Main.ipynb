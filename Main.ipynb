{
 "cells": [
  {
   "cell_type": "markdown",
   "id": "af770411-1bea-4abc-88f6-736e30ae8964",
   "metadata": {},
   "source": [
    "Solar Flare Prediction"
   ]
  },
  {
   "cell_type": "code",
   "execution_count": null,
   "id": "ff9d54ea-bb4d-4bcf-9b4c-d428a2bda5c6",
   "metadata": {},
   "outputs": [],
   "source": [
    "import pandas as pd\n"
   ]
  }
 ],
 "metadata": {
  "kernelspec": {
   "display_name": "Python 3 (ipykernel)",
   "language": "python",
   "name": "python3"
  },
  "language_info": {
   "codemirror_mode": {
    "name": "ipython",
    "version": 3
   },
   "file_extension": ".py",
   "mimetype": "text/x-python",
   "name": "python",
   "nbconvert_exporter": "python",
   "pygments_lexer": "ipython3",
   "version": "3.10.10"
  },
  "toc-autonumbering": true,
  "toc-showmarkdowntxt": true
 },
 "nbformat": 4,
 "nbformat_minor": 5
}
