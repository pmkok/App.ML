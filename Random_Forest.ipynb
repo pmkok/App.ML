{
 "cells": [
  {
   "cell_type": "markdown",
   "id": "21f976ea-3a6b-4721-a388-080e0c254ad8",
   "metadata": {},
   "source": [
    "Predicting german traffic signs using HOG features and classifing with a Random Forest decider"
   ]
  },
  {
   "cell_type": "code",
   "execution_count": 1,
   "id": "b4b926c2-f27f-4d71-8460-4d86d5a51c9e",
   "metadata": {
    "tags": []
   },
   "outputs": [],
   "source": [
    "from sklearn.pipeline import make_pipeline\n",
    "from sklearn.preprocessing import StandardScaler\n",
    "from sklearn.model_selection import train_test_split\n",
    "import os\n",
    "import numpy as np\n",
    "from sklearn.metrics import accuracy_score\n",
    "from sklearn.ensemble import RandomForestClassifier\n",
    "\n",
    "# Define the path to your dataset\n",
    "\n",
    "def read_data(folder_path):\n",
    "        \n",
    "    X = []\n",
    "    y = []\n",
    "\n",
    "    for class_label in range(43):\n",
    "        class_folder = os.path.join(folder_path, str(class_label))\n",
    "        \n",
    "        for file_name in os.listdir(class_folder):\n",
    "            if file_name.endswith(\".txt\"):\n",
    "                file_path = os.path.join(class_folder, file_name)\n",
    "                \n",
    "                with open(file_path, \"r\") as file:\n",
    "                    features = file.read().splitlines()\n",
    "                    X.append(features)\n",
    "                    y.append(class_label)\n",
    "    \n",
    "    return np.array(X), np.array(y)\n",
    "\n",
    "folder_path_train = '/home/jovyan/DATA/dataset_folder_hog_sorted_train/GTSRB_Features_HOG/training/HOG_01'\n",
    "folder_path_test = \"/home/jovyan/DATA/dataset_folder_hog_sorted_test/GTSRB/Online-Test-sort/HOG/HOG_01\"\n",
    "\n",
    "X_train, y_train = read_data(folder_path_train)\n",
    "X_test, y_test = read_data(folder_path_test)"
   ]
  },
  {
   "cell_type": "code",
   "execution_count": 2,
   "id": "816cba54-da49-40aa-a107-f42a65500d94",
   "metadata": {
    "tags": []
   },
   "outputs": [
    {
     "name": "stdout",
     "output_type": "stream",
     "text": [
      "Accuracy: 0.9467738085766568\n"
     ]
    }
   ],
   "source": [
    "scaler = StandardScaler()\n",
    "X_train_scaled = scaler.fit_transform(X_train)\n",
    "X_test_scaled = scaler.transform(X_test)\n",
    "\n",
    "# Create and train the Random Forest model\n",
    "random_forest = RandomForestClassifier()\n",
    "random_forest.fit(X_train_scaled, y_train)\n",
    "\n",
    "# Make predictions on the test set\n",
    "y_pred = random_forest.predict(X_test_scaled)\n",
    "\n",
    "# Evaluate the model\n",
    "accuracy = accuracy_score(y_test, y_pred)\n",
    "print(\"Accuracy:\", accuracy)"
   ]
  },
  {
   "cell_type": "code",
   "execution_count": null,
   "id": "65e51967-b53e-4a42-98fa-067ac131db98",
   "metadata": {},
   "outputs": [],
   "source": []
  }
 ],
 "metadata": {
  "kernelspec": {
   "display_name": "Python 3 (ipykernel)",
   "language": "python",
   "name": "python3"
  },
  "language_info": {
   "codemirror_mode": {
    "name": "ipython",
    "version": 3
   },
   "file_extension": ".py",
   "mimetype": "text/x-python",
   "name": "python",
   "nbconvert_exporter": "python",
   "pygments_lexer": "ipython3",
   "version": "3.10.10"
  }
 },
 "nbformat": 4,
 "nbformat_minor": 5
}
