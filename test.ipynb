{
 "cells": [
  {
   "cell_type": "markdown",
   "id": "ddd7643b-5071-47d7-bc56-23a292a6e87e",
   "metadata": {
    "tags": []
   },
   "source": [
    "test"
   ]
  },
  {
   "cell_type": "markdown",
   "id": "78110802-7fb7-4eb6-b4bc-8efc40354e60",
   "metadata": {},
   "source": []
  }
 ],
 "metadata": {
  "kernelspec": {
   "display_name": "Python 3 (ipykernel)",
   "language": "python",
   "name": "python3"
  },
  "language_info": {
   "codemirror_mode": {
    "name": "ipython",
    "version": 3
   },
   "file_extension": ".py",
   "mimetype": "text/x-python",
   "name": "python",
   "nbconvert_exporter": "python",
   "pygments_lexer": "ipython3",
   "version": "3.10.10"
  }
 },
 "nbformat": 4,
 "nbformat_minor": 5
}
