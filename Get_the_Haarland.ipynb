{
 "cells": [
  {
   "cell_type": "markdown",
   "id": "1021f103-d83f-47a3-957f-5d850b8be2a2",
   "metadata": {},
   "source": [
    "Get the Haar-like features"
   ]
  },
  {
   "cell_type": "code",
   "execution_count": 2,
   "id": "2ee39745-a1ed-45e3-a80e-e9d02b6d5548",
   "metadata": {
    "tags": []
   },
   "outputs": [],
   "source": [
    "from time import time\n",
    "\n",
    "import numpy as np\n",
    "import matplotlib.pyplot as plt\n",
    "import cv2\n",
    "from dask import delayed\n",
    "\n",
    "from sklearn.ensemble import RandomForestClassifier\n",
    "from sklearn.model_selection import train_test_split\n",
    "from sklearn.metrics import roc_auc_score\n",
    "\n",
    "\n",
    "from skimage.data import lfw_subset\n",
    "from skimage.transform import integral_image\n",
    "from skimage.feature import haar_like_feature\n",
    "from skimage.feature import haar_like_feature_coord\n",
    "from skimage.feature import draw_haar_like_feature\n",
    "import os\n",
    "\n",
    "from skimage.io import imshow, imread\n",
    "from skimage.feature import hog\n",
    "from skimage import exposure\n",
    "import skimage.transform as transform\n",
    "import skimage.io\n",
    "import skimage.exposure\n",
    "from sklearn.pipeline import make_pipeline\n",
    "from sklearn.preprocessing import StandardScaler\n",
    "from sklearn.model_selection import train_test_split\n",
    "import os\n",
    "import numpy as np\n",
    "from sklearn.metrics import accuracy_score\n",
    "from sklearn.ensemble import RandomForestClassifier\n",
    "from sklearn.svm import SVC\n",
    "\n",
    "from sklearn.metrics import accuracy_score, precision_score, recall_score, f1_score\n",
    "from sklearn.model_selection import train_test_split\n",
    "from sklearn.ensemble import RandomForestClassifier\n",
    "import numpy as np"
   ]
  },
  {
   "cell_type": "code",
   "execution_count": null,
   "id": "72aca0ce-d86a-4ddd-a1a5-77b4de00d082",
   "metadata": {},
   "outputs": [],
   "source": [
    "@delayed\n",
    "def extract_feature_image(img, feature_type, feature_coord=None):\n",
    "    \"\"\"Extract the haar feature for the current image\"\"\"\n",
    "    ii = integral_image(img)\n",
    "    return haar_like_feature(ii, 0, 0, ii.shape[0], ii.shape[1],\n",
    "                             feature_type=feature_type,\n",
    "                             feature_coord=feature_coord)\n",
    "\n",
    "feature_types = ['type-2-x', 'type-2-y']\n",
    "\n",
    "def read_data(folder_path):\n",
    "    X = []\n",
    "    y = []  \n",
    "\n",
    "    for class_label in range(43):\n",
    "        class_folder = os.path.join(folder_path, str(class_label))\n",
    "        \n",
    "        \n",
    "        \n",
    "        for file_name in os.listdir(class_folder):\n",
    "            if file_name.endswith(\".ppm\"):\n",
    "                file_path = os.path.join(class_folder, file_name)\n",
    "                                   \n",
    "                images = cv2.imread(file_path)\n",
    "\n",
    "                reshaped_img = transform.resize(images, (40, 40))\n",
    "                normalized_image = skimage.exposure.rescale_intensity(reshaped_img, in_range='image', out_range=(0, 1))\n",
    "\n",
    "                U = np.array(extract_feature_image(normalized_image, feature_types))\n",
    "\n",
    "                feature_coord, feature_type = \\\n",
    "                     haar_like_feature_coord(width=normalized_image.shape[2], height=normalized_image.shape[1],\n",
    "                                                feature_type=feature_types)\n",
    "            \n",
    "\n",
    "                X.append(feature_coord)\n",
    "                y.append(class_label)\n",
    "\n",
    "    return np.array(X), np.array(y)\n",
    "\n",
    "folder_path_train = \"/home/jovyan/DATA/dataset_folder_train_images/GTSRB/Final_Training/Images\"\n",
    "\n",
    "X,y = read_data(folder_path_train)"
   ]
  },
  {
   "cell_type": "code",
   "execution_count": null,
   "id": "30075923-e727-4e29-9778-bdda55527c7a",
   "metadata": {},
   "outputs": [],
   "source": []
  }
 ],
 "metadata": {
  "kernelspec": {
   "display_name": "Python 3 (ipykernel)",
   "language": "python",
   "name": "python3"
  },
  "language_info": {
   "codemirror_mode": {
    "name": "ipython",
    "version": 3
   },
   "file_extension": ".py",
   "mimetype": "text/x-python",
   "name": "python",
   "nbconvert_exporter": "python",
   "pygments_lexer": "ipython3",
   "version": "3.10.10"
  }
 },
 "nbformat": 4,
 "nbformat_minor": 5
}
